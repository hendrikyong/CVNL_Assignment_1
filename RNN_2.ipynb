{
  "nbformat": 4,
  "nbformat_minor": 0,
  "metadata": {
    "colab": {
      "provenance": [],
      "gpuType": "T4",
      "include_colab_link": true
    },
    "kernelspec": {
      "name": "python3",
      "display_name": "Python 3"
    },
    "language_info": {
      "name": "python"
    },
    "accelerator": "GPU"
  },
  "cells": [
    {
      "cell_type": "markdown",
      "metadata": {
        "id": "view-in-github",
        "colab_type": "text"
      },
      "source": [
        "<a href=\"https://colab.research.google.com/github/hendrikyong/CVNL_Assignment_1/blob/main/RNN_2.ipynb\" target=\"_parent\"><img src=\"https://colab.research.google.com/assets/colab-badge.svg\" alt=\"Open In Colab\"/></a>"
      ]
    },
    {
      "cell_type": "code",
      "execution_count": 46,
      "metadata": {
        "id": "54QPCHP27lZ7",
        "colab": {
          "base_uri": "https://localhost:8080/"
        },
        "outputId": "c914fc34-d561-4521-d5cd-1fb3572d1ef4"
      },
      "outputs": [
        {
          "output_type": "stream",
          "name": "stderr",
          "text": [
            "[nltk_data] Downloading package punkt to /root/nltk_data...\n",
            "[nltk_data]   Unzipping tokenizers/punkt.zip.\n",
            "[nltk_data] Downloading package punkt_tab to /root/nltk_data...\n",
            "[nltk_data]   Package punkt_tab is already up-to-date!\n"
          ]
        },
        {
          "output_type": "execute_result",
          "data": {
            "text/plain": [
              "True"
            ]
          },
          "metadata": {},
          "execution_count": 46
        }
      ],
      "source": [
        "# Import necessary libraries\n",
        "import torch\n",
        "import torch.nn as nn\n",
        "import torch.optim as optim\n",
        "import torch.nn.functional as F\n",
        "from torch.utils.data import Dataset, DataLoader, random_split\n",
        "\n",
        "import pandas as pd\n",
        "import nltk\n",
        "from nltk.tokenize import word_tokenize\n",
        "import numpy as np\n",
        "import matplotlib.pyplot as plt\n",
        "import seaborn as sns\n",
        "from tqdm import tqdm\n",
        "from collections import Counter\n",
        "from sklearn.metrics import accuracy_score, classification_report, confusion_matrix\n",
        "\n",
        "# Download necessary NLTK data\n",
        "nltk.download(\"punkt\")\n",
        "nltk.download('punkt_tab')"
      ]
    },
    {
      "cell_type": "code",
      "source": [
        "# Define dataset paths from Hugging Face\n",
        "splits = {\n",
        "    'train': 'hf://datasets/dair-ai/emotion/split/train-00000-of-00001.parquet',\n",
        "    'validation': 'hf://datasets/dair-ai/emotion/split/validation-00000-of-00001.parquet',\n",
        "    'test': 'hf://datasets/dair-ai/emotion/split/test-00000-of-00001.parquet'\n",
        "}\n",
        "\n",
        "# Load datasets using pandas\n",
        "train_df = pd.read_parquet(splits[\"train\"])\n",
        "val_df = pd.read_parquet(splits[\"validation\"])\n",
        "test_df = pd.read_parquet(splits[\"test\"])\n",
        "\n",
        "# Display dataset samples\n",
        "print(\"Train Data Sample:\\n\", train_df.head())\n",
        "print(\"Validation Data Sample:\\n\", val_df.head())\n",
        "print(\"Test Data Sample:\\n\", test_df.head())\n",
        "\n",
        "# Extract text and labels\n",
        "train_texts, train_labels = train_df[\"text\"].tolist(), train_df[\"label\"].tolist()\n",
        "val_texts, val_labels = val_df[\"text\"].tolist(), val_df[\"label\"].tolist()\n",
        "test_texts, test_labels = test_df[\"text\"].tolist(), test_df[\"label\"].tolist()"
      ],
      "metadata": {
        "colab": {
          "base_uri": "https://localhost:8080/"
        },
        "id": "2sqnkOFJ889X",
        "outputId": "dfb2ef92-b9b4-4124-d0b8-707d8dee72fe"
      },
      "execution_count": 47,
      "outputs": [
        {
          "output_type": "stream",
          "name": "stdout",
          "text": [
            "Train Data Sample:\n",
            "                                                 text  label\n",
            "0                            i didnt feel humiliated      0\n",
            "1  i can go from feeling so hopeless to so damned...      0\n",
            "2   im grabbing a minute to post i feel greedy wrong      3\n",
            "3  i am ever feeling nostalgic about the fireplac...      2\n",
            "4                               i am feeling grouchy      3\n",
            "Validation Data Sample:\n",
            "                                                 text  label\n",
            "0  im feeling quite sad and sorry for myself but ...      0\n",
            "1  i feel like i am still looking at a blank canv...      0\n",
            "2                     i feel like a faithful servant      2\n",
            "3                  i am just feeling cranky and blue      3\n",
            "4  i can have for a treat or if i am feeling festive      1\n",
            "Test Data Sample:\n",
            "                                                 text  label\n",
            "0  im feeling rather rotten so im not very ambiti...      0\n",
            "1          im updating my blog because i feel shitty      0\n",
            "2  i never make her separate from me because i do...      0\n",
            "3  i left with my bouquet of red and yellow tulip...      1\n",
            "4    i was feeling a little vain when i did this one      0\n"
          ]
        }
      ]
    },
    {
      "cell_type": "code",
      "source": [
        "# Tokenize all words from training set\n",
        "all_words = [word for sentence in train_texts for word in word_tokenize(sentence.lower())]\n",
        "\n",
        "# Create vocabulary mapping\n",
        "word_to_idx = {word: idx + 2 for idx, word in enumerate(Counter(all_words))}\n",
        "word_to_idx[\"<PAD>\"] = 0\n",
        "word_to_idx[\"<UNK>\"] = 1  # For unknown words\n",
        "\n",
        "# Define max sequence length\n",
        "MAX_LENGTH = 30\n",
        "\n",
        "# Convert text to sequence of tokens\n",
        "def encode_text(text, word_to_idx, max_len=MAX_LENGTH):\n",
        "    tokens = [word_to_idx.get(word, word_to_idx[\"<UNK>\"]) for word in word_tokenize(text.lower())]\n",
        "    return tokens[:max_len] + [word_to_idx[\"<PAD>\"]] * (max_len - len(tokens))\n",
        "\n",
        "# Encode datasets\n",
        "train_sequences = [encode_text(text, word_to_idx) for text in train_texts]\n",
        "val_sequences = [encode_text(text, word_to_idx) for text in val_texts]\n",
        "test_sequences = [encode_text(text, word_to_idx) for text in test_texts]\n",
        "\n",
        "# Convert labels to tensor\n",
        "train_labels = torch.tensor(train_labels)\n",
        "val_labels = torch.tensor(val_labels)\n",
        "test_labels = torch.tensor(test_labels)\n",
        "\n",
        "print(\"Sample encoded text:\", train_sequences[0])"
      ],
      "metadata": {
        "colab": {
          "base_uri": "https://localhost:8080/"
        },
        "id": "k4VMVit39tkq",
        "outputId": "b18c9818-cfb2-4b88-d646-b6c4b9f0a561"
      },
      "execution_count": 70,
      "outputs": [
        {
          "output_type": "stream",
          "name": "stdout",
          "text": [
            "Sample encoded text: [2, 3, 4, 5, 0, 0, 0, 0, 0, 0, 0, 0, 0, 0, 0, 0, 0, 0, 0, 0, 0, 0, 0, 0, 0, 0, 0, 0, 0, 0]\n"
          ]
        },
        {
          "output_type": "stream",
          "name": "stderr",
          "text": [
            "<ipython-input-70-b033b87ac43e>:23: UserWarning: To copy construct from a tensor, it is recommended to use sourceTensor.clone().detach() or sourceTensor.clone().detach().requires_grad_(True), rather than torch.tensor(sourceTensor).\n",
            "  train_labels = torch.tensor(train_labels)\n",
            "<ipython-input-70-b033b87ac43e>:24: UserWarning: To copy construct from a tensor, it is recommended to use sourceTensor.clone().detach() or sourceTensor.clone().detach().requires_grad_(True), rather than torch.tensor(sourceTensor).\n",
            "  val_labels = torch.tensor(val_labels)\n",
            "<ipython-input-70-b033b87ac43e>:25: UserWarning: To copy construct from a tensor, it is recommended to use sourceTensor.clone().detach() or sourceTensor.clone().detach().requires_grad_(True), rather than torch.tensor(sourceTensor).\n",
            "  test_labels = torch.tensor(test_labels)\n"
          ]
        }
      ]
    },
    {
      "cell_type": "code",
      "source": [
        "class EmotionDataset(Dataset):\n",
        "    def __init__(self, text_sequences, labels):\n",
        "        self.text_sequences = text_sequences\n",
        "        self.labels = labels\n",
        "\n",
        "    def __len__(self):\n",
        "        return len(self.text_sequences)\n",
        "\n",
        "    def __getitem__(self, idx):\n",
        "        return torch.tensor(self.text_sequences[idx]), torch.tensor(self.labels[idx])\n",
        "\n",
        "# Create dataset instances\n",
        "train_dataset = EmotionDataset(train_sequences, train_labels)\n",
        "val_dataset = EmotionDataset(val_sequences, val_labels)\n",
        "test_dataset = EmotionDataset(test_sequences, test_labels)\n",
        "\n",
        "# Create DataLoaders\n",
        "train_loader = DataLoader(train_dataset, batch_size=32, shuffle=True)\n",
        "val_loader = DataLoader(val_dataset, batch_size=32, shuffle=False)\n",
        "test_loader = DataLoader(test_dataset, batch_size=32, shuffle=False)\n",
        "\n",
        "print(f\"Dataset Sizes - Train: {len(train_dataset)}, Val: {len(val_dataset)}, Test: {len(test_dataset)}\")"
      ],
      "metadata": {
        "colab": {
          "base_uri": "https://localhost:8080/"
        },
        "id": "Zt0uUp2TCkVe",
        "outputId": "2166a653-4b64-4506-df71-7de0822632df"
      },
      "execution_count": 56,
      "outputs": [
        {
          "output_type": "stream",
          "name": "stdout",
          "text": [
            "Dataset Sizes - Train: 16000, Val: 2000, Test: 2000\n"
          ]
        }
      ]
    },
    {
      "cell_type": "code",
      "source": [
        "class EmotionLSTM(nn.Module):\n",
        "    def __init__(self, vocab_size, embed_dim, hidden_dim, num_classes, num_layers=2, dropout=0.3):\n",
        "        super(EmotionLSTM, self).__init__()\n",
        "        self.embedding = nn.Embedding(vocab_size, embed_dim, padding_idx=0)\n",
        "        self.lstm = nn.LSTM(embed_dim, hidden_dim, num_layers=num_layers, batch_first=True, bidirectional=True, dropout=dropout)\n",
        "        self.fc = nn.Linear(hidden_dim * 2, num_classes)\n",
        "\n",
        "    def forward(self, x):\n",
        "        x_embedded = self.embedding(x)\n",
        "        lstm_out, _ = self.lstm(x_embedded)\n",
        "        last_hidden = lstm_out[:, -1, :]\n",
        "        return self.fc(last_hidden)\n",
        "\n",
        "# Initialize model\n",
        "device = torch.device(\"cuda\" if torch.cuda.is_available() else \"cpu\")\n",
        "model = EmotionLSTM(len(word_to_idx), embed_dim=128, hidden_dim=64, num_classes=6).to(device)\n",
        "\n",
        "print(model)"
      ],
      "metadata": {
        "colab": {
          "base_uri": "https://localhost:8080/"
        },
        "id": "OjWEfv0nCqCA",
        "outputId": "a66e8b4c-8ea5-43e1-91b9-0b5c24f70947"
      },
      "execution_count": 72,
      "outputs": [
        {
          "output_type": "stream",
          "name": "stdout",
          "text": [
            "EmotionLSTM(\n",
            "  (embedding): Embedding(15212, 128, padding_idx=0)\n",
            "  (lstm): LSTM(128, 64, num_layers=2, batch_first=True, dropout=0.3, bidirectional=True)\n",
            "  (fc): Linear(in_features=128, out_features=6, bias=True)\n",
            ")\n"
          ]
        }
      ]
    },
    {
      "cell_type": "code",
      "source": [
        "# Define optimizer, loss function\n",
        "optimizer = optim.AdamW(model.parameters(), lr=0.001, weight_decay=5e-3)\n",
        "criterion = nn.CrossEntropyLoss()\n",
        "\n",
        "# Training function with validation and test accuracy evaluated only after all epochs\n",
        "def train_model_with_test_eval(model, train_loader, val_loader, test_loader, optimizer, criterion, device, epochs=15):\n",
        "    for epoch in range(epochs):\n",
        "        model.train()\n",
        "        train_loss, train_correct, train_total = 0, 0, 0\n",
        "\n",
        "        with tqdm(train_loader, desc=f\"Epoch {epoch+1}/{epochs}\") as pbar:\n",
        "            for texts, labels in pbar:\n",
        "                texts, labels = texts.to(device), labels.to(device)\n",
        "                optimizer.zero_grad()\n",
        "\n",
        "                # Forward pass\n",
        "                outputs = model(texts)\n",
        "                loss = criterion(outputs, labels)\n",
        "\n",
        "                # Backward pass and optimization\n",
        "                loss.backward()\n",
        "                optimizer.step()\n",
        "\n",
        "                # Track loss and accuracy\n",
        "                train_loss += loss.item()\n",
        "                train_correct += (torch.argmax(outputs, dim=1) == labels).sum().item()\n",
        "                train_total += labels.size(0)\n",
        "\n",
        "                # Update progress bar\n",
        "                pbar.set_postfix(loss=f\"{loss.item():.4f}\")\n",
        "\n",
        "        # Calculate training metrics\n",
        "        train_loss /= len(train_loader)\n",
        "        train_accuracy = (train_correct / train_total) * 100\n",
        "        print(f\"Epoch {epoch+1}:\\n  Train Loss: {train_loss:.4f}, Train Accuracy: {train_accuracy:.2f}%\")\n",
        "\n",
        "    # Final Validation Step\n",
        "    model.eval()\n",
        "    val_loss, val_correct, val_total = 0, 0, 0\n",
        "\n",
        "    with torch.no_grad():\n",
        "        for texts, labels in val_loader:\n",
        "            texts, labels = texts.to(device), labels.to(device)\n",
        "            outputs = model(texts)\n",
        "            loss = criterion(outputs, labels)\n",
        "\n",
        "            val_loss += loss.item()\n",
        "            val_correct += (torch.argmax(outputs, dim=1) == labels).sum().item()\n",
        "            val_total += labels.size(0)\n",
        "\n",
        "    # Calculate validation metrics\n",
        "    val_loss /= len(val_loader)\n",
        "    val_accuracy = (val_correct / val_total) * 100\n",
        "    print(\"\\nFinal Validation Results:\")\n",
        "    print(f\"  Validation Loss: {val_loss:.4f}, Validation Accuracy: {val_accuracy:.2f}%\")\n",
        "\n",
        "    # Final Test Evaluation\n",
        "    test_loss, test_correct, test_total = 0, 0, 0\n",
        "\n",
        "    with torch.no_grad():\n",
        "        for texts, labels in test_loader:\n",
        "            texts, labels = texts.to(device), labels.to(device)\n",
        "            outputs = model(texts)\n",
        "            loss = criterion(outputs, labels)\n",
        "\n",
        "            test_loss += loss.item()\n",
        "            test_correct += (torch.argmax(outputs, dim=1) == labels).sum().item()\n",
        "            test_total += labels.size(0)\n",
        "\n",
        "    # Calculate test metrics\n",
        "    test_loss /= len(test_loader)\n",
        "    test_accuracy = (test_correct / test_total) * 100\n",
        "    print(\"\\nFinal Test Results:\")\n",
        "    print(f\"  Test Loss: {test_loss:.4f}, Test Accuracy: {test_accuracy:.2f}%\")\n",
        "\n",
        "# Call the updated training function\n",
        "train_model_with_test_eval(model, train_loader, val_loader, test_loader, optimizer, criterion, device, epochs=15)"
      ],
      "metadata": {
        "colab": {
          "base_uri": "https://localhost:8080/"
        },
        "id": "MA6PVqbwCw0Y",
        "outputId": "f28f031a-240a-4dcc-fb96-33deb1df4d6c"
      },
      "execution_count": 74,
      "outputs": [
        {
          "output_type": "stream",
          "name": "stderr",
          "text": [
            "Epoch 1/15:   0%|          | 0/500 [00:00<?, ?it/s]<ipython-input-56-21e030c06cfa>:10: UserWarning: To copy construct from a tensor, it is recommended to use sourceTensor.clone().detach() or sourceTensor.clone().detach().requires_grad_(True), rather than torch.tensor(sourceTensor).\n",
            "  return torch.tensor(self.text_sequences[idx]), torch.tensor(self.labels[idx])\n",
            "Epoch 1/15: 100%|██████████| 500/500 [00:05<00:00, 98.94it/s, loss=1.3082]\n"
          ]
        },
        {
          "output_type": "stream",
          "name": "stdout",
          "text": [
            "Epoch 1:\n",
            "  Train Loss: 1.5166, Train Accuracy: 33.58%\n"
          ]
        },
        {
          "output_type": "stream",
          "name": "stderr",
          "text": [
            "Epoch 2/15: 100%|██████████| 500/500 [00:04<00:00, 117.87it/s, loss=1.5671]\n"
          ]
        },
        {
          "output_type": "stream",
          "name": "stdout",
          "text": [
            "Epoch 2:\n",
            "  Train Loss: 1.3676, Train Accuracy: 37.53%\n"
          ]
        },
        {
          "output_type": "stream",
          "name": "stderr",
          "text": [
            "Epoch 3/15: 100%|██████████| 500/500 [00:04<00:00, 116.87it/s, loss=1.2523]\n"
          ]
        },
        {
          "output_type": "stream",
          "name": "stdout",
          "text": [
            "Epoch 3:\n",
            "  Train Loss: 1.3799, Train Accuracy: 37.36%\n"
          ]
        },
        {
          "output_type": "stream",
          "name": "stderr",
          "text": [
            "Epoch 4/15: 100%|██████████| 500/500 [00:05<00:00, 98.26it/s, loss=1.3206] \n"
          ]
        },
        {
          "output_type": "stream",
          "name": "stdout",
          "text": [
            "Epoch 4:\n",
            "  Train Loss: 1.3729, Train Accuracy: 37.32%\n"
          ]
        },
        {
          "output_type": "stream",
          "name": "stderr",
          "text": [
            "Epoch 5/15: 100%|██████████| 500/500 [00:04<00:00, 118.48it/s, loss=1.1840]\n"
          ]
        },
        {
          "output_type": "stream",
          "name": "stdout",
          "text": [
            "Epoch 5:\n",
            "  Train Loss: 1.3455, Train Accuracy: 39.00%\n"
          ]
        },
        {
          "output_type": "stream",
          "name": "stderr",
          "text": [
            "Epoch 6/15: 100%|██████████| 500/500 [00:04<00:00, 118.31it/s, loss=1.2494]\n"
          ]
        },
        {
          "output_type": "stream",
          "name": "stdout",
          "text": [
            "Epoch 6:\n",
            "  Train Loss: 1.1617, Train Accuracy: 42.68%\n"
          ]
        },
        {
          "output_type": "stream",
          "name": "stderr",
          "text": [
            "Epoch 7/15: 100%|██████████| 500/500 [00:05<00:00, 96.42it/s, loss=0.9587] \n"
          ]
        },
        {
          "output_type": "stream",
          "name": "stdout",
          "text": [
            "Epoch 7:\n",
            "  Train Loss: 1.0166, Train Accuracy: 50.16%\n"
          ]
        },
        {
          "output_type": "stream",
          "name": "stderr",
          "text": [
            "Epoch 8/15: 100%|██████████| 500/500 [00:04<00:00, 116.76it/s, loss=0.5213]\n"
          ]
        },
        {
          "output_type": "stream",
          "name": "stdout",
          "text": [
            "Epoch 8:\n",
            "  Train Loss: 0.7986, Train Accuracy: 66.41%\n"
          ]
        },
        {
          "output_type": "stream",
          "name": "stderr",
          "text": [
            "Epoch 9/15: 100%|██████████| 500/500 [00:04<00:00, 116.01it/s, loss=0.3739]\n"
          ]
        },
        {
          "output_type": "stream",
          "name": "stdout",
          "text": [
            "Epoch 9:\n",
            "  Train Loss: 0.4902, Train Accuracy: 83.43%\n"
          ]
        },
        {
          "output_type": "stream",
          "name": "stderr",
          "text": [
            "Epoch 10/15: 100%|██████████| 500/500 [00:04<00:00, 100.07it/s, loss=0.3537]\n"
          ]
        },
        {
          "output_type": "stream",
          "name": "stdout",
          "text": [
            "Epoch 10:\n",
            "  Train Loss: 0.2987, Train Accuracy: 90.04%\n"
          ]
        },
        {
          "output_type": "stream",
          "name": "stderr",
          "text": [
            "Epoch 11/15: 100%|██████████| 500/500 [00:04<00:00, 117.11it/s, loss=0.2577]\n"
          ]
        },
        {
          "output_type": "stream",
          "name": "stdout",
          "text": [
            "Epoch 11:\n",
            "  Train Loss: 0.1976, Train Accuracy: 93.41%\n"
          ]
        },
        {
          "output_type": "stream",
          "name": "stderr",
          "text": [
            "Epoch 12/15: 100%|██████████| 500/500 [00:04<00:00, 116.20it/s, loss=0.2377]\n"
          ]
        },
        {
          "output_type": "stream",
          "name": "stdout",
          "text": [
            "Epoch 12:\n",
            "  Train Loss: 0.1458, Train Accuracy: 95.04%\n"
          ]
        },
        {
          "output_type": "stream",
          "name": "stderr",
          "text": [
            "Epoch 13/15: 100%|██████████| 500/500 [00:05<00:00, 97.82it/s, loss=0.1193] \n"
          ]
        },
        {
          "output_type": "stream",
          "name": "stdout",
          "text": [
            "Epoch 13:\n",
            "  Train Loss: 0.1182, Train Accuracy: 95.88%\n"
          ]
        },
        {
          "output_type": "stream",
          "name": "stderr",
          "text": [
            "Epoch 14/15: 100%|██████████| 500/500 [00:04<00:00, 115.75it/s, loss=0.1128]\n"
          ]
        },
        {
          "output_type": "stream",
          "name": "stdout",
          "text": [
            "Epoch 14:\n",
            "  Train Loss: 0.0954, Train Accuracy: 96.61%\n"
          ]
        },
        {
          "output_type": "stream",
          "name": "stderr",
          "text": [
            "Epoch 15/15: 100%|██████████| 500/500 [00:04<00:00, 117.09it/s, loss=0.0465]\n"
          ]
        },
        {
          "output_type": "stream",
          "name": "stdout",
          "text": [
            "Epoch 15:\n",
            "  Train Loss: 0.0809, Train Accuracy: 97.22%\n",
            "\n",
            "Final Validation Results:\n",
            "  Validation Loss: 0.3919, Validation Accuracy: 89.90%\n",
            "\n",
            "Final Test Results:\n",
            "  Test Loss: 0.3209, Test Accuracy: 90.65%\n"
          ]
        }
      ]
    }
  ]
}