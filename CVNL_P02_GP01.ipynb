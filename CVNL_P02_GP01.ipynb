{
  "nbformat": 4,
  "nbformat_minor": 0,
  "metadata": {
    "colab": {
      "provenance": [],
      "gpuType": "T4",
      "authorship_tag": "ABX9TyPBg8XqtLXHClPJekbzEjfQ",
      "include_colab_link": true
    },
    "kernelspec": {
      "name": "python3",
      "display_name": "Python 3"
    },
    "language_info": {
      "name": "python"
    },
    "accelerator": "GPU"
  },
  "cells": [
    {
      "cell_type": "markdown",
      "metadata": {
        "id": "view-in-github",
        "colab_type": "text"
      },
      "source": [
        "<a href=\"https://colab.research.google.com/github/hendrikyong/CVNL_Assignment_1/blob/main/CVNL_P02_GP01.ipynb\" target=\"_parent\"><img src=\"https://colab.research.google.com/assets/colab-badge.svg\" alt=\"Open In Colab\"/></a>"
      ]
    },
    {
      "cell_type": "code",
      "source": [
        "# Imports\n",
        "import os\n",
        "import torch\n",
        "import kagglehub\n",
        "import numpy as np\n",
        "import matplotlib.pyplot as plt\n",
        "from tqdm import tqdm\n",
        "from sklearn.metrics import accuracy_score\n",
        "from torchvision import datasets, transforms\n",
        "from torch.utils.data import DataLoader, random_split\n",
        "\n",
        "# Download dataset from KaggleHub\n",
        "path = kagglehub.dataset_download(\"grassknoted/asl-alphabet\")\n",
        "\n",
        "#define paths to the training and testing data directories\n",
        "data_dir = '/root/.cache/kagglehub/datasets/grassknoted/asl-alphabet/versions/1/asl_alphabet_train/asl_alphabet_train'\n",
        "# no longer using the test_dir because there is only 1 image per class and there is simply not enough for evaluation\n",
        "# test_dir = '/root/.cache/kagglehub/datasets/grassknoted/asl-alphabet/versions/1/asl_alphabet_test/asl_alphabet_test'\n",
        "\n",
        "# Check dataset files\n",
        "print(\"Path to dataset:\", data_dir)"
      ],
      "metadata": {
        "colab": {
          "base_uri": "https://localhost:8080/"
        },
        "id": "mC-GJyNi19k_",
        "outputId": "cab10a2d-fe33-4853-b842-69e6754df295"
      },
      "execution_count": 1,
      "outputs": [
        {
          "output_type": "stream",
          "name": "stdout",
          "text": [
            "Downloading from https://www.kaggle.com/api/v1/datasets/download/grassknoted/asl-alphabet?dataset_version_number=1...\n"
          ]
        },
        {
          "output_type": "stream",
          "name": "stderr",
          "text": [
            "100%|██████████| 1.03G/1.03G [00:47<00:00, 22.9MB/s]\n"
          ]
        },
        {
          "output_type": "stream",
          "name": "stdout",
          "text": [
            "Extracting files...\n",
            "Path to dataset: /root/.cache/kagglehub/datasets/grassknoted/asl-alphabet/versions/1/asl_alphabet_train/asl_alphabet_train\n"
          ]
        }
      ]
    },
    {
      "cell_type": "code",
      "source": [
        "#zhi heng\n",
        "#Define helper function to calculate mean and std\n",
        "def calculate_mean_std(dataset):\n",
        "    loader = DataLoader(dataset, batch_size=64, shuffle=False)\n",
        "    mean = torch.zeros(3)\n",
        "    std = torch.zeros(3)\n",
        "\n",
        "    for images, _ in loader:\n",
        "        images = images.view(images.size(0), images.size(1), -1)\n",
        "        mean += images.mean(2).sum(0)\n",
        "        std += images.std(2).sum(0)\n",
        "\n",
        "    mean /= len(dataset)\n",
        "    std /= len(dataset)\n",
        "    return mean, std\n",
        "\n",
        "#Calculate dataset-specific mean and std\n",
        "raw_transform = transforms.Compose([\n",
        "    transforms.ToTensor()\n",
        "])\n",
        "raw_dataset = datasets.ImageFolder(root=data_dir, transform=raw_transform)\n",
        "mean, std = calculate_mean_std(raw_dataset)\n",
        "print(f\"Dataset Mean: {mean}, Std: {std}\")"
      ],
      "metadata": {
        "id": "aYwrlEmXmDw_",
        "colab": {
          "base_uri": "https://localhost:8080/"
        },
        "outputId": "b82b33bb-2259-4cc7-e03d-19217f054e6a"
      },
      "execution_count": 2,
      "outputs": [
        {
          "output_type": "stream",
          "name": "stdout",
          "text": [
            "Dataset Mean: tensor([0.5189, 0.4990, 0.5145]), Std: tensor([0.2038, 0.2329, 0.2405])\n"
          ]
        }
      ]
    },
    {
      "cell_type": "code",
      "source": [
        "# Define image transformations\n",
        "train_transform = transforms.Compose([\n",
        "    transforms.Resize((128, 128)),\n",
        "    transforms.RandomHorizontalFlip(p=0.5),\n",
        "    transforms.RandomRotation(15),\n",
        "    transforms.ColorJitter(brightness=0.2, contrast=0.2, saturation=0.1),\n",
        "    transforms.RandomCrop(128, padding=4),\n",
        "    #kernel = filter used to blur the image, sigma = to blur the image by how much\n",
        "    transforms.GaussianBlur(kernel_size=(5, 5), sigma=0.7),\n",
        "    #how much to distort the image by, probabilty of applying distortion to images\n",
        "    transforms.RandomPerspective(distortion_scale=0.5, p=0.5),\n",
        "    transforms.ToTensor(),\n",
        "    transforms.Normalize(mean=mean, std=std)\n",
        "])\n",
        "\n",
        "val_transform = transforms.Compose([\n",
        "    transforms.Resize((128, 128)),\n",
        "    transforms.ToTensor(),\n",
        "    transforms.Normalize(mean=mean, std=std)\n",
        "])\n",
        "\n",
        "#load full dataset (folders act as labels)\n",
        "full_dataset = datasets.ImageFolder(root=data_dir)\n",
        "\n",
        "#train test split\n",
        "train_size = int(0.7 * len(full_dataset))\n",
        "val_size = len(full_dataset) - train_size\n",
        "train_dataset, val_dataset = random_split(full_dataset, [train_size, val_size])\n",
        "\n",
        "#applying transformation after the split\n",
        "train_dataset.dataset.transform = train_transform\n",
        "val_dataset.dataset.transform = val_transform\n",
        "\n",
        "#creating dataloaders\n",
        "train_loader = DataLoader(train_dataset, batch_size=64, shuffle=True)\n",
        "val_loader = DataLoader(val_dataset, batch_size=64, shuffle=False)\n",
        "\n",
        "#print dataset summary\n",
        "print(f\"Total images: {len(full_dataset)}\")\n",
        "print(f\"Training images: {len(train_dataset)}\")\n",
        "print(f\"Validation images: {len(val_dataset)}\")"
      ],
      "metadata": {
        "id": "MV8foKx0mZIQ",
        "colab": {
          "base_uri": "https://localhost:8080/"
        },
        "outputId": "33241f5a-adbe-44c9-deb8-258101298fb8"
      },
      "execution_count": 3,
      "outputs": [
        {
          "output_type": "stream",
          "name": "stdout",
          "text": [
            "Total images: 87000\n",
            "Training images: 60899\n",
            "Validation images: 26101\n"
          ]
        }
      ]
    },
    {
      "cell_type": "code",
      "source": [
        "#model cnn model\n",
        "import torch.nn as nn\n",
        "import torch.optim as optim\n",
        "import torch.nn.functional as F\n",
        "'''\n",
        "typical architecture of a CNN\n",
        "1. input\n",
        "2. conv\n",
        "3. relu\n",
        "4. pooling\n",
        "5. fully connected layers\n",
        "5. output pred\n",
        "\n",
        "considerations:\n",
        "how many conv layers do i need for feature extraction?\n",
        "how many hidden layers?\n",
        "how many channels?\n",
        "'''\n",
        "\n",
        "class CNN(nn.Module):\n",
        "    def __init__(self, num_classes=29):\n",
        "        super(CNN, self).__init__()\n",
        "\n",
        "        self.model = nn.Sequential(\n",
        "            #conv1\n",
        "            nn.Conv2d(3, 32, kernel_size=3, stride=1, padding=1),\n",
        "            nn.ReLU(),\n",
        "            nn.MaxPool2d(kernel_size=2, stride=2),\n",
        "\n",
        "            #conv2\n",
        "            nn.Conv2d(32, 64, kernel_size=3, stride=1, padding=1),\n",
        "            nn.ReLU(),\n",
        "            nn.MaxPool2d(kernel_size=2, stride=2),\n",
        "\n",
        "            #conv3\n",
        "            nn.Conv2d(64, 128, kernel_size=3, stride=1, padding=1),\n",
        "            nn.ReLU(),\n",
        "            nn.MaxPool2d(kernel_size=2, stride=2),\n",
        "        )\n",
        "\n",
        "        self.fc = nn.Sequential(\n",
        "            nn.Flatten(),\n",
        "            nn.Linear(128 * 16 * 16, 512),\n",
        "            nn.ReLU(),\n",
        "            nn.Dropout(0.6),\n",
        "            nn.Linear(512, num_classes)\n",
        "        )\n",
        "\n",
        "\n",
        "    def forward(self, x):\n",
        "        x = self.model(x)\n",
        "        #print(x.shape)\n",
        "        x = self.fc(x)\n",
        "        return x"
      ],
      "metadata": {
        "id": "4FIPs_cB1-VD"
      },
      "execution_count": 4,
      "outputs": []
    },
    {
      "cell_type": "code",
      "source": [
        "def train(model, train_loader, loss_func, optimizer, device, epochs):\n",
        "    model.train()  #set model to train\n",
        "\n",
        "    for epoch in range(epochs):\n",
        "        epoch_loss = 0.0\n",
        "        correct = 0\n",
        "        total = 0\n",
        "\n",
        "        # Initialize tqdm progress bar for the current epoch\n",
        "        progress_bar = tqdm(train_loader, desc=f\"Epoch {epoch+1}/{epochs}\", leave=True,\n",
        "                             bar_format=\"{l_bar}{bar:10}{r_bar}{bar:-10b}\")\n",
        "\n",
        "        for batch_idx, (inputs, targets) in enumerate(progress_bar):\n",
        "            inputs, targets = inputs.to(device), targets.to(device)\n",
        "\n",
        "            # Zero the gradients\n",
        "            optimizer.zero_grad()\n",
        "\n",
        "            # Forward pass\n",
        "            outputs = model(inputs)\n",
        "            loss = loss_func(outputs, targets)\n",
        "\n",
        "            # Backward pass and optimization\n",
        "            loss.backward()\n",
        "            optimizer.step()\n",
        "\n",
        "            # Update epoch loss and accuracy\n",
        "            epoch_loss += loss.item()\n",
        "            _, predicted = outputs.max(1)\n",
        "            total += targets.size(0)\n",
        "            correct += predicted.eq(targets).sum().item()\n",
        "\n",
        "            # Update the progress bar with current metrics\n",
        "            progress_bar.set_postfix({\n",
        "                \"Loss\": f\"{epoch_loss / (batch_idx + 1):.4f}\",  # Average loss so far\n",
        "                \"Accuracy\": f\"{100. * correct / total:.2f}%\"        # Current accuracy\n",
        "            })\n",
        "\n",
        "        # Print epoch summary\n",
        "        print(f\"Epoch {epoch+1}: Loss: {epoch_loss / len(train_loader):.4f}, Accuracy: {100. * correct / total:.2f}%\")"
      ],
      "metadata": {
        "id": "oAgQODJf2Acv"
      },
      "execution_count": 5,
      "outputs": []
    },
    {
      "cell_type": "code",
      "source": [
        "def test(model, test_loader, loss_func, device):\n",
        "    model.eval()  #set model to eval mode\n",
        "    test_loss = 0.0\n",
        "    correct = 0\n",
        "    total = 0\n",
        "    y_true = []\n",
        "    y_pred = []\n",
        "\n",
        "    with torch.no_grad():\n",
        "        progress_bar = tqdm(test_loader, desc=\"Testing\", leave=True,\n",
        "                             bar_format=\"{l_bar}{bar:10}{r_bar}{bar:-10b}\")\n",
        "\n",
        "        for batch_idx, (inputs, targets) in enumerate(progress_bar):\n",
        "            inputs, targets = inputs.to(device), targets.to(device)\n",
        "\n",
        "            outputs = model(inputs)\n",
        "            loss = loss_func(outputs, targets)\n",
        "\n",
        "            test_loss += loss.item()\n",
        "            _, predicted = outputs.max(1)\n",
        "            total += targets.size(0)\n",
        "            correct += predicted.eq(targets).sum().item()\n",
        "\n",
        "            y_true.extend(targets.cpu().numpy())\n",
        "            y_pred.extend(predicted.cpu().numpy())\n",
        "\n",
        "            progress_bar.set_postfix({\n",
        "                \"Loss\": f\"{test_loss / (batch_idx + 1):.4f}\",\n",
        "                \"Accuracy\": f\"{100. * correct / total:.2f}%\"\n",
        "            })\n",
        "\n",
        "    avg_test_loss = test_loss / len(test_loader)\n",
        "    test_accuracy = 100. * correct / total\n",
        "    print(f\"Test Loss: {avg_test_loss:.4f}, Test Accuracy: {test_accuracy:.2f}%\")\n",
        "\n",
        "    return avg_test_loss, test_accuracy, y_true, y_pred"
      ],
      "metadata": {
        "id": "9BeR95oZ2CiG"
      },
      "execution_count": 6,
      "outputs": []
    },
    {
      "cell_type": "code",
      "source": [
        "#define model, loss function, optimizer, etc.\n",
        "#check if gpu available\n",
        "if torch.cuda.is_available():\n",
        "    device = torch.device(\"cuda\")\n",
        "    print(device)\n",
        "else:\n",
        "    device = torch.device(\"cpu\")\n",
        "    print(device)\n",
        "\n",
        "num_classes = 29\n",
        "epochs = 10\n",
        "lr = 1e-4\n",
        "loss_func = nn.CrossEntropyLoss()\n",
        "model = CNN(num_classes=num_classes).to(device)\n",
        "optimizer = optim.Adam(model.parameters(), lr=lr)\n",
        "\n",
        "# Call the train function\n",
        "train(model, train_loader, loss_func, optimizer, device, epochs=epochs)\n",
        "avg_test_loss, test_accuracy, y_true, y_pred = test(model, val_loader, loss_func, device)"
      ],
      "metadata": {
        "colab": {
          "base_uri": "https://localhost:8080/"
        },
        "id": "K_OzhnYB2Frn",
        "outputId": "a3bf387f-6ff4-4e02-b512-fbd1a2fc01d8"
      },
      "execution_count": 7,
      "outputs": [
        {
          "output_type": "stream",
          "name": "stdout",
          "text": [
            "cuda\n"
          ]
        },
        {
          "output_type": "stream",
          "name": "stderr",
          "text": [
            "Epoch 1/10: 100%|██████████| 952/952 [02:18<00:00,  6.89it/s, Loss=1.7428, Accuracy=47.51%]\n"
          ]
        },
        {
          "output_type": "stream",
          "name": "stdout",
          "text": [
            "Epoch 1: Loss: 1.7428, Accuracy: 47.51%\n"
          ]
        },
        {
          "output_type": "stream",
          "name": "stderr",
          "text": [
            "Epoch 2/10: 100%|██████████| 952/952 [02:17<00:00,  6.93it/s, Loss=0.6156, Accuracy=79.76%]\n"
          ]
        },
        {
          "output_type": "stream",
          "name": "stdout",
          "text": [
            "Epoch 2: Loss: 0.6156, Accuracy: 79.76%\n"
          ]
        },
        {
          "output_type": "stream",
          "name": "stderr",
          "text": [
            "Epoch 3/10: 100%|██████████| 952/952 [02:18<00:00,  6.87it/s, Loss=0.3518, Accuracy=88.16%]\n"
          ]
        },
        {
          "output_type": "stream",
          "name": "stdout",
          "text": [
            "Epoch 3: Loss: 0.3518, Accuracy: 88.16%\n"
          ]
        },
        {
          "output_type": "stream",
          "name": "stderr",
          "text": [
            "Epoch 4/10: 100%|██████████| 952/952 [02:19<00:00,  6.82it/s, Loss=0.2406, Accuracy=91.92%]\n"
          ]
        },
        {
          "output_type": "stream",
          "name": "stdout",
          "text": [
            "Epoch 4: Loss: 0.2406, Accuracy: 91.92%\n"
          ]
        },
        {
          "output_type": "stream",
          "name": "stderr",
          "text": [
            "Epoch 5/10: 100%|██████████| 952/952 [02:19<00:00,  6.84it/s, Loss=0.1760, Accuracy=94.08%]\n"
          ]
        },
        {
          "output_type": "stream",
          "name": "stdout",
          "text": [
            "Epoch 5: Loss: 0.1760, Accuracy: 94.08%\n"
          ]
        },
        {
          "output_type": "stream",
          "name": "stderr",
          "text": [
            "Epoch 6/10: 100%|██████████| 952/952 [02:18<00:00,  6.86it/s, Loss=0.1409, Accuracy=95.18%]\n"
          ]
        },
        {
          "output_type": "stream",
          "name": "stdout",
          "text": [
            "Epoch 6: Loss: 0.1409, Accuracy: 95.18%\n"
          ]
        },
        {
          "output_type": "stream",
          "name": "stderr",
          "text": [
            "Epoch 7/10: 100%|██████████| 952/952 [02:17<00:00,  6.90it/s, Loss=0.1174, Accuracy=95.91%]\n"
          ]
        },
        {
          "output_type": "stream",
          "name": "stdout",
          "text": [
            "Epoch 7: Loss: 0.1174, Accuracy: 95.91%\n"
          ]
        },
        {
          "output_type": "stream",
          "name": "stderr",
          "text": [
            "Epoch 8/10: 100%|██████████| 952/952 [02:17<00:00,  6.94it/s, Loss=0.0969, Accuracy=96.72%]\n"
          ]
        },
        {
          "output_type": "stream",
          "name": "stdout",
          "text": [
            "Epoch 8: Loss: 0.0969, Accuracy: 96.72%\n"
          ]
        },
        {
          "output_type": "stream",
          "name": "stderr",
          "text": [
            "Epoch 9/10: 100%|██████████| 952/952 [02:17<00:00,  6.91it/s, Loss=0.0844, Accuracy=97.08%]\n"
          ]
        },
        {
          "output_type": "stream",
          "name": "stdout",
          "text": [
            "Epoch 9: Loss: 0.0844, Accuracy: 97.08%\n"
          ]
        },
        {
          "output_type": "stream",
          "name": "stderr",
          "text": [
            "Epoch 10/10: 100%|██████████| 952/952 [02:17<00:00,  6.93it/s, Loss=0.0744, Accuracy=97.47%]\n"
          ]
        },
        {
          "output_type": "stream",
          "name": "stdout",
          "text": [
            "Epoch 10: Loss: 0.0744, Accuracy: 97.47%\n"
          ]
        },
        {
          "output_type": "stream",
          "name": "stderr",
          "text": [
            "Testing: 100%|██████████| 408/408 [00:47<00:00,  8.62it/s, Loss=0.0142, Accuracy=99.67%]"
          ]
        },
        {
          "output_type": "stream",
          "name": "stdout",
          "text": [
            "Test Loss: 0.0142, Test Accuracy: 99.67%\n"
          ]
        },
        {
          "output_type": "stream",
          "name": "stderr",
          "text": [
            "\n"
          ]
        }
      ]
    },
    {
      "cell_type": "code",
      "source": [
        "from sklearn.metrics import confusion_matrix, accuracy_score, precision_score, recall_score, f1_score, classification_report\n",
        "import seaborn as sns\n",
        "import matplotlib.pyplot as plt\n",
        "\n",
        "# Assuming y_true and y_pred are already defined\n",
        "y_true = y_true  # List or array of true labels\n",
        "y_pred = y_pred  # List or array of predicted labels\n",
        "\n",
        "# Define class names (A-Z, 'del', 'space', 'nothing')\n",
        "class_names = ['A', 'B', 'C', 'D', 'E', 'F', 'G', 'H', 'I', 'J', 'K', 'L', 'M', 'N', 'O', 'P', 'Q', 'R', 'S', 'T', 'U', 'V', 'W', 'X', 'Y', 'Z', 'del', 'space', 'nothing']\n",
        "\n",
        "# Calculate metrics\n",
        "accuracy = accuracy_score(y_true, y_pred)\n",
        "precision = precision_score(y_true, y_pred, average='weighted')\n",
        "recall = recall_score(y_true, y_pred, average='weighted')\n",
        "f1 = f1_score(y_true, y_pred, average='weighted')\n",
        "\n",
        "print(f\"Accuracy: {accuracy:.4f} Precision: {precision:.4f} Recall: {recall:.4f} F1-Score: {f1:.4f}\")\n",
        "\n",
        "# Classification report\n",
        "print(\"\\nClassification Report:\")\n",
        "print(classification_report(y_true, y_pred, target_names=class_names))"
      ],
      "metadata": {
        "colab": {
          "base_uri": "https://localhost:8080/"
        },
        "id": "SRPM1XM-Ecdi",
        "outputId": "aea57c99-deb7-46f3-af8f-d171e1a6e528"
      },
      "execution_count": 8,
      "outputs": [
        {
          "output_type": "stream",
          "name": "stdout",
          "text": [
            "Accuracy: 0.9967 Precision: 0.9967 Recall: 0.9967 F1-Score: 0.9967\n",
            "\n",
            "Classification Report:\n",
            "              precision    recall  f1-score   support\n",
            "\n",
            "           A       1.00      1.00      1.00       885\n",
            "           B       0.99      1.00      1.00       892\n",
            "           C       1.00      1.00      1.00       941\n",
            "           D       1.00      1.00      1.00       924\n",
            "           E       1.00      0.99      1.00       931\n",
            "           F       1.00      1.00      1.00       881\n",
            "           G       1.00      0.99      1.00       860\n",
            "           H       0.99      1.00      1.00       925\n",
            "           I       0.99      1.00      1.00       929\n",
            "           J       1.00      1.00      1.00       907\n",
            "           K       1.00      0.99      0.99       921\n",
            "           L       1.00      1.00      1.00       940\n",
            "           M       1.00      1.00      1.00       902\n",
            "           N       1.00      1.00      1.00       880\n",
            "           O       1.00      1.00      1.00       921\n",
            "           P       1.00      1.00      1.00       906\n",
            "           Q       1.00      1.00      1.00       893\n",
            "           R       0.99      0.99      0.99       912\n",
            "           S       1.00      1.00      1.00       863\n",
            "           T       1.00      1.00      1.00       854\n",
            "           U       0.99      0.99      0.99       932\n",
            "           V       0.98      0.99      0.98       879\n",
            "           W       1.00      0.99      0.99       886\n",
            "           X       0.98      1.00      0.99       855\n",
            "           Y       1.00      0.98      0.99       894\n",
            "           Z       1.00      1.00      1.00       900\n",
            "         del       1.00      1.00      1.00       877\n",
            "       space       1.00      1.00      1.00       912\n",
            "     nothing       1.00      1.00      1.00       899\n",
            "\n",
            "    accuracy                           1.00     26101\n",
            "   macro avg       1.00      1.00      1.00     26101\n",
            "weighted avg       1.00      1.00      1.00     26101\n",
            "\n"
          ]
        }
      ]
    },
    {
      "cell_type": "code",
      "source": [
        "# Confusion Matrix\n",
        "cm = confusion_matrix(y_true, y_pred)\n",
        "\n",
        "# Plot the confusion matrix\n",
        "plt.figure(figsize=(10, 8))\n",
        "sns.heatmap(cm, annot=True, fmt=\"d\", cmap=\"Blues\", cbar=False, xticklabels=class_names, yticklabels=class_names)\n",
        "plt.xlabel('Predicted Labels')\n",
        "plt.ylabel('True Labels')\n",
        "plt.title('Confusion Matrix')\n",
        "plt.show()"
      ],
      "metadata": {
        "id": "oc85cBAdu4wK",
        "colab": {
          "base_uri": "https://localhost:8080/",
          "height": 757
        },
        "outputId": "4ca586fa-9ea0-455b-fce6-790fe081e408"
      },
      "execution_count": 9,
      "outputs": [
        {
          "output_type": "display_data",
          "data": {
            "text/plain": [
              "<Figure size 1000x800 with 1 Axes>"
            ],
            "image/png": "[encoded data removed]"
          },
          "metadata": {}
        }
      ]
    },
    {
      "cell_type": "code",
      "source": [],
      "metadata": {
        "id": "aBKRhAsc3leA"
      },
      "execution_count": 9,
      "outputs": []
    }
  ]
}