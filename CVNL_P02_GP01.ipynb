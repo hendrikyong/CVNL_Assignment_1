{
  "nbformat": 4,
  "nbformat_minor": 0,
  "metadata": {
    "colab": {
      "provenance": [],
      "toc_visible": true,
      "authorship_tag": "ABX9TyMNSNkfCB6qB489tOPgaaef",
      "include_colab_link": true
    },
    "kernelspec": {
      "name": "python3",
      "display_name": "Python 3"
    },
    "language_info": {
      "name": "python"
    }
  },
  "cells": [
    {
      "cell_type": "markdown",
      "metadata": {
        "id": "view-in-github",
        "colab_type": "text"
      },
      "source": [
        "<a href=\"https://colab.research.google.com/github/hendrikyong/CVNL_Assignment_1/blob/main/CVNL_P02_GP01.ipynb\" target=\"_parent\"><img src=\"https://colab.research.google.com/assets/colab-badge.svg\" alt=\"Open In Colab\"/></a>"
      ]
    },
    {
      "cell_type": "code",
      "source": [
        "import os\n",
        "\n",
        "# Download dataset using kagglehub\n",
        "import kagglehub\n",
        "path = kagglehub.dataset_download(\"debashishsau/aslamerican-sign-language-aplhabet-dataset\")\n",
        "\n",
        "# List files in the dataset folder\n",
        "print(\"Path to dataset files:\", path)\n",
        "files = os.listdir(path)\n",
        "print(\"Files in the dataset:\", files)"
      ],
      "metadata": {
        "colab": {
          "base_uri": "https://localhost:8080/"
        },
        "id": "nuHU9QRJlbfr",
        "outputId": "edeb61df-38c0-4c07-c5f8-1ec7e49f2921"
      },
      "execution_count": 9,
      "outputs": [
        {
          "output_type": "stream",
          "name": "stdout",
          "text": [
            "Path to dataset files: /root/.cache/kagglehub/datasets/debashishsau/aslamerican-sign-language-aplhabet-dataset/versions/1\n",
            "Files in the dataset: ['ASL_Alphabet_Dataset']\n"
          ]
        }
      ]
    },
    {
      "cell_type": "code",
      "source": [
        "import os\n",
        "\n",
        "def list_files_in_directory(directory_path):\n",
        "    return os.listdir(directory_path)\n",
        "\n",
        "# Define the subfolder path\n",
        "subfolder_path = os.path.join(path, 'ASL_Alphabet_Dataset')\n",
        "\n",
        "# List files in the main dataset folder, training folder, and testing folder\n",
        "folders = ['asl_alphabet_train', 'asl_alphabet_test']\n",
        "for folder in folders:\n",
        "    folder_path = os.path.join(subfolder_path, folder)\n",
        "    print(f\"Files in '{folder}' folder:\", list_files_in_directory(folder_path))\n"
      ],
      "metadata": {
        "colab": {
          "base_uri": "https://localhost:8080/"
        },
        "id": "oXH97NexnKl-",
        "outputId": "8a254bab-44e4-4ce1-f230-78a973d71b38"
      },
      "execution_count": 10,
      "outputs": [
        {
          "output_type": "stream",
          "name": "stdout",
          "text": [
            "Files in 'asl_alphabet_train' folder: ['U', 'I', 'L', 'G', 'P', 'R', 'K', 'J', 'D', 'Y', 'B', 'V', 'Z', 'Q', 'H', 'S', 'T', 'O', 'F', 'W', 'N', 'nothing', 'space', 'C', 'E', 'M', 'X', 'A', 'del']\n",
            "Files in 'asl_alphabet_test' folder: ['Z_test.jpg', 'V_test.jpg', 'E_test.jpg', 'space_test.jpg', 'K_test.jpg', 'D_test.jpg', 'R_test.jpg', 'J_test.jpg', 'S_test.jpg', 'C_test.jpg', 'P_test.jpg', 'F_test.jpg', 'M_test.jpg', 'N_test.jpg', 'H_test.jpg', 'Q_test.jpg', 'X_test.jpg', 'G_test.jpg', 'I_test.jpg', 'nothing_test.jpg', 'T_test.jpg', 'U_test.jpg', 'L_test.jpg', 'A_test.jpg', 'O_test.jpg', 'W_test.jpg', 'B_test.jpg', 'Y_test.jpg']\n"
          ]
        }
      ]
    }
  ]
}