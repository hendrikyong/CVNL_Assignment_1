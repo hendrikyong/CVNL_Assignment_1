{
  "nbformat": 4,
  "nbformat_minor": 0,
  "metadata": {
    "colab": {
      "provenance": [],
      "gpuType": "T4",
      "include_colab_link": true
    },
    "kernelspec": {
      "name": "python3",
      "display_name": "Python 3"
    },
    "language_info": {
      "name": "python"
    },
    "accelerator": "GPU"
  },
  "cells": [
    {
      "cell_type": "markdown",
      "metadata": {
        "id": "view-in-github",
        "colab_type": "text"
      },
      "source": [
        "<a href=\"https://colab.research.google.com/github/hendrikyong/CVNL_Assignment_1/blob/main/CVNL_RNN_(10).ipynb\" target=\"_parent\"><img src=\"https://colab.research.google.com/assets/colab-badge.svg\" alt=\"Open In Colab\"/></a>"
      ]
    },
    {
      "cell_type": "code",
      "execution_count": 1,
      "metadata": {
        "colab": {
          "base_uri": "https://localhost:8080/"
        },
        "id": "b0-3ZX9xM0HH",
        "outputId": "133ed6eb-b1b7-4206-b766-4d25ced700c4"
      },
      "outputs": [
        {
          "output_type": "stream",
          "name": "stderr",
          "text": [
            "[nltk_data] Downloading package punkt to /root/nltk_data...\n",
            "[nltk_data]   Unzipping tokenizers/punkt.zip.\n",
            "[nltk_data] Downloading package punkt_tab to /root/nltk_data...\n",
            "[nltk_data]   Unzipping tokenizers/punkt_tab.zip.\n"
          ]
        },
        {
          "output_type": "execute_result",
          "data": {
            "text/plain": [
              "True"
            ]
          },
          "metadata": {},
          "execution_count": 1
        }
      ],
      "source": [
        "import torch\n",
        "import torch.nn as nn\n",
        "import torch.optim as optim\n",
        "import torch.nn.functional as F\n",
        "from torch.utils.data import Dataset, DataLoader, random_split\n",
        "import nltk\n",
        "from nltk.tokenize import word_tokenize\n",
        "import requests\n",
        "import json\n",
        "from collections import Counter\n",
        "import pandas as pd\n",
        "import matplotlib.pyplot as plt\n",
        "import seaborn as sns\n",
        "from tqdm import tqdm\n",
        "\n",
        "nltk.download(\"punkt\")\n",
        "nltk.download('punkt_tab')"
      ]
    },
    {
      "cell_type": "code",
      "source": [
        "# get json dataset from github\n",
        "url = \"https://raw.githubusercontent.com/snipsco/nlu-benchmark/master/2016-12-built-in-intents/benchmark_data.json\"\n",
        "response = requests.get(url)\n",
        "\n",
        "if response.status_code == 200:\n",
        "    data = response.json()\n",
        "    print(\"Successfully fetched SNIPS dataset\")\n",
        "\n",
        "    # Extract intents and associated text queries\n",
        "    snips_data = {}\n",
        "    for domain in data[\"domains\"]:\n",
        "        for intent in domain[\"intents\"]:\n",
        "            intent_name = intent[\"benchmark\"][\"Snips\"][\"original_intent_name\"]\n",
        "            queries = [query[\"text\"] for query in intent[\"queries\"]]\n",
        "            snips_data[intent_name] = queries\n",
        "\n",
        "    print(f\"Total intents: {len(snips_data)}\")\n",
        "    print(\"Example intent:\", list(snips_data.keys())[0])\n",
        "    print(\"Example queries:\", snips_data[list(snips_data.keys())[0]][:5])\n",
        "else:\n",
        "    print(\"Failed to fetch SNIPS dataset\")"
      ],
      "metadata": {
        "colab": {
          "base_uri": "https://localhost:8080/"
        },
        "id": "rOwtzHUvP1Ji",
        "outputId": "7d3965ef-a43a-46ca-d90a-255cc556478e"
      },
      "execution_count": 2,
      "outputs": [
        {
          "output_type": "stream",
          "name": "stdout",
          "text": [
            "Successfully fetched SNIPS dataset\n",
            "Total intents: 10\n",
            "Example intent: ShareCurrentLocation\n",
            "Example queries: [\"Share my location with Hillary's sister\", 'Send my current location to my father', 'Share my current location with Jim', 'Send my location to my husband', 'Send my location']\n"
          ]
        }
      ]
    },
    {
      "cell_type": "code",
      "source": [
        "all_words = [word for queries in snips_data.values() for query in queries for word in word_tokenize(query.lower())]\n",
        "\n",
        "# build vocabulary\n",
        "vocab = {word: idx + 2 for idx, word in enumerate(Counter(all_words))}\n",
        "vocab[\"<PAD>\"] = 0\n",
        "vocab[\"<UNK>\"] = 1\n",
        "\n",
        "# map intent\n",
        "intent_labels = {intent: idx for idx, intent in enumerate(snips_data.keys())}\n",
        "\n",
        "def text_to_sequence(text, vocab, max_len=10):\n",
        "    tokens = [vocab.get(word, vocab[\"<UNK>\"]) for word in word_tokenize(text.lower())]\n",
        "    return tokens[:max_len] + [vocab[\"<PAD>\"]] * (max_len - len(tokens))\n",
        "\n",
        "sample_text = \"play some jazz music\"\n",
        "print(text_to_sequence(sample_text, vocab))\n"
      ],
      "metadata": {
        "colab": {
          "base_uri": "https://localhost:8080/"
        },
        "id": "E_guh4ZVP5q1",
        "outputId": "867efbd2-b1c9-4495-f142-7581f54ada3b"
      },
      "execution_count": 3,
      "outputs": [
        {
          "output_type": "stream",
          "name": "stdout",
          "text": [
            "[1, 257, 212, 1, 0, 0, 0, 0, 0, 0]\n"
          ]
        }
      ]
    },
    {
      "cell_type": "code",
      "source": [
        "class SNIPSDataset(torch.utils.data.Dataset):\n",
        "    def __init__(self, data, vocab, intent_labels, max_len=10):\n",
        "        self.data = data\n",
        "        self.vocab = vocab\n",
        "        self.intent_labels = intent_labels\n",
        "        self.max_len = max_len\n",
        "        self.samples = [(query, intent) for intent, queries in data.items() for query in queries]\n",
        "\n",
        "    def __len__(self):\n",
        "        return len(self.samples)\n",
        "\n",
        "    def __getitem__(self, idx):\n",
        "        text, intent = self.samples[idx]\n",
        "        tokenized_text = text_to_sequence(text, self.vocab, self.max_len)\n",
        "        label = self.intent_labels[intent]\n",
        "        return torch.tensor(tokenized_text), torch.tensor(label)\n",
        "\n",
        "# create dataset, split into test and evaluation\n",
        "full_dataset = SNIPSDataset(snips_data, vocab, intent_labels)\n",
        "train_size = int(0.8 * len(full_dataset))\n",
        "val_size = len(full_dataset) - train_size\n",
        "train_dataset, val_dataset = random_split(full_dataset, [train_size, val_size])\n",
        "\n",
        "train_loader = DataLoader(train_dataset, batch_size=32, shuffle=True)\n",
        "val_loader = DataLoader(val_dataset, batch_size=32, shuffle=False)\n"
      ],
      "metadata": {
        "id": "FQHaiC5FRYSi"
      },
      "execution_count": 4,
      "outputs": []
    },
    {
      "cell_type": "code",
      "source": [
        "class IntentBiRNN(nn.Module):\n",
        "    def __init__(self, vocab_size, embed_dim, hidden_dim, output_dim, num_layers=1, dropout=0.5):\n",
        "        super(IntentBiRNN, self).__init__()\n",
        "        self.embedding = nn.Embedding(vocab_size, embed_dim, padding_idx=0)\n",
        "        self.rnn = nn.RNN(embed_dim, hidden_dim, num_layers=num_layers,\n",
        "                          batch_first=True, bidirectional=True, dropout=dropout)\n",
        "        self.fc = nn.Linear(hidden_dim * 2, output_dim)\n",
        "\n",
        "    def forward(self, x, lengths):\n",
        "        x_embedded = self.embedding(x)\n",
        "\n",
        "        # pack\n",
        "        x_packed = torch.nn.utils.rnn.pack_padded_sequence(x_embedded, lengths.cpu(), batch_first=True, enforce_sorted=False)\n",
        "        packed_output, hidden = self.rnn(x_packed)\n",
        "\n",
        "        # extract last hidden state for both directions\n",
        "        hidden = hidden.view(self.rnn.num_layers, 2, x.size(0), self.rnn.hidden_size)\n",
        "        hidden = torch.cat((hidden[-1, 0], hidden[-1, 1]), dim=1)\n",
        "\n",
        "        return self.fc(hidden)\n",
        "\n",
        "device = torch.device(\"cuda\" if torch.cuda.is_available() else \"cpu\")\n",
        "model = IntentBiRNN(len(vocab), embed_dim=64, hidden_dim=32, output_dim=len(intent_labels)).to(device)\n"
      ],
      "metadata": {
        "colab": {
          "base_uri": "https://localhost:8080/"
        },
        "id": "qTczd4mcSJvq",
        "outputId": "e09aa841-0617-4b62-9753-e4116e7dc320"
      },
      "execution_count": 24,
      "outputs": [
        {
          "output_type": "stream",
          "name": "stderr",
          "text": [
            "/usr/local/lib/python3.11/dist-packages/torch/nn/modules/rnn.py:123: UserWarning: dropout option adds dropout after all but last recurrent layer, so non-zero dropout expects num_layers greater than 1, but got dropout=0.5 and num_layers=1\n",
            "  warnings.warn(\n"
          ]
        }
      ]
    },
    {
      "cell_type": "code",
      "source": [
        "from tqdm import tqdm\n",
        "\n",
        "optimizer = torch.optim.Adam(model.parameters(), lr=0.001, weight_decay=5e-3)\n",
        "criterion = nn.CrossEntropyLoss()\n",
        "\n",
        "num_epochs = 20\n",
        "\n",
        "train_losses, train_accuracies, val_losses = [], [], []\n",
        "\n",
        "# Training loop without validation after each epoch\n",
        "for epoch in range(num_epochs):\n",
        "    model.train()\n",
        "    total_train_loss = 0\n",
        "    correct_train = 0\n",
        "    total_train = 0\n",
        "\n",
        "    with tqdm(train_loader, desc=f\"Epoch {epoch+1}/{num_epochs}\", unit=\"batch\") as pbar:\n",
        "        for texts, labels in pbar:\n",
        "            texts, labels = texts.to(device), labels.to(device)\n",
        "            lengths = (texts != vocab[\"<PAD>\"]).sum(dim=1).cpu()\n",
        "\n",
        "            optimizer.zero_grad()\n",
        "            outputs = model(texts, lengths)\n",
        "\n",
        "            loss = criterion(outputs, labels)\n",
        "            loss.backward()\n",
        "            optimizer.step()\n",
        "\n",
        "            total_train_loss += loss.item()\n",
        "            predictions = torch.argmax(outputs, dim=1)\n",
        "            correct_train += (predictions == labels).sum().item()\n",
        "            total_train += labels.size(0)\n",
        "\n",
        "            pbar.set_postfix(Loss=f\"{loss.item():.4f}\")\n",
        "\n",
        "    train_losses.append(total_train_loss / len(train_loader))\n",
        "    train_accuracies.append(100.0 * correct_train / total_train)\n",
        "\n",
        "    print(f\"Epoch {epoch+1}:\")\n",
        "    print(f\"  Train Loss: {train_losses[-1]:.4f}, Train Accuracy: {train_accuracies[-1]:.2f}%\")\n",
        "\n",
        "# Perform validation after all epochs\n",
        "model.eval()\n",
        "total_val_loss = 0\n",
        "correct_val = 0\n",
        "total_val = 0\n",
        "\n",
        "with torch.no_grad():\n",
        "    for texts, labels in val_loader:\n",
        "        texts, labels = texts.to(device), labels.to(device)\n",
        "        lengths = (texts != vocab[\"<PAD>\"]).sum(dim=1).cpu()\n",
        "\n",
        "        outputs = model(texts, lengths)\n",
        "        loss = criterion(outputs, labels)\n",
        "\n",
        "        total_val_loss += loss.item()\n",
        "\n",
        "        predictions = torch.argmax(outputs, dim=1)\n",
        "        correct_val += (predictions == labels).sum().item()\n",
        "        total_val += labels.size(0)\n",
        "\n",
        "val_loss = total_val_loss / len(val_loader)\n",
        "val_losses.append(val_loss)\n",
        "val_accuracy = 100.0 * correct_val / total_val\n",
        "\n",
        "print(\"Final Validation Results:\")\n",
        "print(f\"  Val Loss: {val_loss:.4f}, Val Accuracy: {val_accuracy:.2f}%\")\n"
      ],
      "metadata": {
        "colab": {
          "base_uri": "https://localhost:8080/"
        },
        "id": "rlroJbMASoG9",
        "outputId": "79747d7b-d3ff-4a74-bfd0-74dc5d5c6e4f"
      },
      "execution_count": 29,
      "outputs": [
        {
          "output_type": "stream",
          "name": "stderr",
          "text": [
            "Epoch 1/20: 100%|██████████| 9/9 [00:00<00:00, 102.26batch/s, Loss=1.2169]\n"
          ]
        },
        {
          "output_type": "stream",
          "name": "stdout",
          "text": [
            "Epoch 1:\n",
            "  Train Loss: 1.2177, Train Accuracy: 69.85%\n"
          ]
        },
        {
          "output_type": "stream",
          "name": "stderr",
          "text": [
            "Epoch 2/20: 100%|██████████| 9/9 [00:00<00:00, 122.81batch/s, Loss=0.8393]\n"
          ]
        },
        {
          "output_type": "stream",
          "name": "stdout",
          "text": [
            "Epoch 2:\n",
            "  Train Loss: 1.0897, Train Accuracy: 74.05%\n"
          ]
        },
        {
          "output_type": "stream",
          "name": "stderr",
          "text": [
            "Epoch 3/20: 100%|██████████| 9/9 [00:00<00:00, 120.29batch/s, Loss=1.1034]\n"
          ]
        },
        {
          "output_type": "stream",
          "name": "stdout",
          "text": [
            "Epoch 3:\n",
            "  Train Loss: 1.0420, Train Accuracy: 74.43%\n"
          ]
        },
        {
          "output_type": "stream",
          "name": "stderr",
          "text": [
            "Epoch 4/20: 100%|██████████| 9/9 [00:00<00:00, 102.27batch/s, Loss=0.7504]\n"
          ]
        },
        {
          "output_type": "stream",
          "name": "stdout",
          "text": [
            "Epoch 4:\n",
            "  Train Loss: 0.9459, Train Accuracy: 75.57%\n"
          ]
        },
        {
          "output_type": "stream",
          "name": "stderr",
          "text": [
            "Epoch 5/20: 100%|██████████| 9/9 [00:00<00:00, 96.54batch/s, Loss=0.9457]\n"
          ]
        },
        {
          "output_type": "stream",
          "name": "stdout",
          "text": [
            "Epoch 5:\n",
            "  Train Loss: 0.9068, Train Accuracy: 77.48%\n"
          ]
        },
        {
          "output_type": "stream",
          "name": "stderr",
          "text": [
            "Epoch 6/20: 100%|██████████| 9/9 [00:00<00:00, 106.54batch/s, Loss=0.7563]\n"
          ]
        },
        {
          "output_type": "stream",
          "name": "stdout",
          "text": [
            "Epoch 6:\n",
            "  Train Loss: 0.8349, Train Accuracy: 81.30%\n"
          ]
        },
        {
          "output_type": "stream",
          "name": "stderr",
          "text": [
            "Epoch 7/20: 100%|██████████| 9/9 [00:00<00:00, 103.98batch/s, Loss=0.5280]\n"
          ]
        },
        {
          "output_type": "stream",
          "name": "stdout",
          "text": [
            "Epoch 7:\n",
            "  Train Loss: 0.7647, Train Accuracy: 83.21%\n"
          ]
        },
        {
          "output_type": "stream",
          "name": "stderr",
          "text": [
            "Epoch 8/20: 100%|██████████| 9/9 [00:00<00:00, 105.35batch/s, Loss=0.7779]\n"
          ]
        },
        {
          "output_type": "stream",
          "name": "stdout",
          "text": [
            "Epoch 8:\n",
            "  Train Loss: 0.7408, Train Accuracy: 85.11%\n"
          ]
        },
        {
          "output_type": "stream",
          "name": "stderr",
          "text": [
            "Epoch 9/20: 100%|██████████| 9/9 [00:00<00:00, 108.30batch/s, Loss=0.6591]\n"
          ]
        },
        {
          "output_type": "stream",
          "name": "stdout",
          "text": [
            "Epoch 9:\n",
            "  Train Loss: 0.6864, Train Accuracy: 86.26%\n"
          ]
        },
        {
          "output_type": "stream",
          "name": "stderr",
          "text": [
            "Epoch 10/20: 100%|██████████| 9/9 [00:00<00:00, 97.21batch/s, Loss=0.6105]\n"
          ]
        },
        {
          "output_type": "stream",
          "name": "stdout",
          "text": [
            "Epoch 10:\n",
            "  Train Loss: 0.6418, Train Accuracy: 88.17%\n"
          ]
        },
        {
          "output_type": "stream",
          "name": "stderr",
          "text": [
            "Epoch 11/20: 100%|██████████| 9/9 [00:00<00:00, 83.75batch/s, Loss=1.0522]\n"
          ]
        },
        {
          "output_type": "stream",
          "name": "stdout",
          "text": [
            "Epoch 11:\n",
            "  Train Loss: 0.6404, Train Accuracy: 90.46%\n"
          ]
        },
        {
          "output_type": "stream",
          "name": "stderr",
          "text": [
            "Epoch 12/20: 100%|██████████| 9/9 [00:00<00:00, 85.08batch/s, Loss=0.6081]\n"
          ]
        },
        {
          "output_type": "stream",
          "name": "stdout",
          "text": [
            "Epoch 12:\n",
            "  Train Loss: 0.5640, Train Accuracy: 92.37%\n"
          ]
        },
        {
          "output_type": "stream",
          "name": "stderr",
          "text": [
            "Epoch 13/20: 100%|██████████| 9/9 [00:00<00:00, 84.46batch/s, Loss=0.3891]\n"
          ]
        },
        {
          "output_type": "stream",
          "name": "stdout",
          "text": [
            "Epoch 13:\n",
            "  Train Loss: 0.5110, Train Accuracy: 92.37%\n"
          ]
        },
        {
          "output_type": "stream",
          "name": "stderr",
          "text": [
            "Epoch 14/20: 100%|██████████| 9/9 [00:00<00:00, 84.57batch/s, Loss=1.0138]\n"
          ]
        },
        {
          "output_type": "stream",
          "name": "stdout",
          "text": [
            "Epoch 14:\n",
            "  Train Loss: 0.5343, Train Accuracy: 93.51%\n"
          ]
        },
        {
          "output_type": "stream",
          "name": "stderr",
          "text": [
            "Epoch 15/20: 100%|██████████| 9/9 [00:00<00:00, 94.06batch/s, Loss=0.3446]\n"
          ]
        },
        {
          "output_type": "stream",
          "name": "stdout",
          "text": [
            "Epoch 15:\n",
            "  Train Loss: 0.4447, Train Accuracy: 93.89%\n"
          ]
        },
        {
          "output_type": "stream",
          "name": "stderr",
          "text": [
            "Epoch 16/20: 100%|██████████| 9/9 [00:00<00:00, 92.39batch/s, Loss=0.3976]\n"
          ]
        },
        {
          "output_type": "stream",
          "name": "stdout",
          "text": [
            "Epoch 16:\n",
            "  Train Loss: 0.4207, Train Accuracy: 94.66%\n"
          ]
        },
        {
          "output_type": "stream",
          "name": "stderr",
          "text": [
            "Epoch 17/20: 100%|██████████| 9/9 [00:00<00:00, 89.86batch/s, Loss=0.2235]\n"
          ]
        },
        {
          "output_type": "stream",
          "name": "stdout",
          "text": [
            "Epoch 17:\n",
            "  Train Loss: 0.3801, Train Accuracy: 95.80%\n"
          ]
        },
        {
          "output_type": "stream",
          "name": "stderr",
          "text": [
            "Epoch 18/20: 100%|██████████| 9/9 [00:00<00:00, 89.44batch/s, Loss=0.3779]\n"
          ]
        },
        {
          "output_type": "stream",
          "name": "stdout",
          "text": [
            "Epoch 18:\n",
            "  Train Loss: 0.3692, Train Accuracy: 96.18%\n"
          ]
        },
        {
          "output_type": "stream",
          "name": "stderr",
          "text": [
            "Epoch 19/20: 100%|██████████| 9/9 [00:00<00:00, 89.01batch/s, Loss=0.1968]\n"
          ]
        },
        {
          "output_type": "stream",
          "name": "stdout",
          "text": [
            "Epoch 19:\n",
            "  Train Loss: 0.3289, Train Accuracy: 96.95%\n"
          ]
        },
        {
          "output_type": "stream",
          "name": "stderr",
          "text": [
            "Epoch 20/20: 100%|██████████| 9/9 [00:00<00:00, 91.44batch/s, Loss=0.1695]\n"
          ]
        },
        {
          "output_type": "stream",
          "name": "stdout",
          "text": [
            "Epoch 20:\n",
            "  Train Loss: 0.3060, Train Accuracy: 97.71%\n",
            "Final Validation Results:\n",
            "  Val Loss: 0.7530, Val Accuracy: 66.67%\n"
          ]
        }
      ]
    },
    {
      "cell_type": "code",
      "source": [
        "plt.figure(figsize=(8, 6))\n",
        "epochs = range(1, len(train_losses) + 1)\n",
        "if len(val_losses) < len(train_losses):\n",
        "    val_losses.extend([val_losses[-1]] * (len(train_losses) - len(val_losses)))\n",
        "plt.plot(epochs, train_losses, label=\"Training Loss\", marker='o')\n",
        "plt.plot(epochs, val_losses, label=\"Validation Loss\", marker='o')\n",
        "plt.xlabel(\"Epochs\")\n",
        "plt.ylabel(\"Loss\")\n",
        "plt.title(\"Training vs Validation Loss\")\n",
        "plt.legend()\n",
        "plt.show()\n"
      ],
      "metadata": {
        "colab": {
          "base_uri": "https://localhost:8080/",
          "height": 564
        },
        "id": "VjbX6RIVSt_9",
        "outputId": "c37add08-bb72-44b1-e6a1-4b3a83ede83a"
      },
      "execution_count": 30,
      "outputs": [
        {
          "output_type": "display_data",
          "data": {
            "text/plain": [
              "<Figure size 800x600 with 1 Axes>"
            ],
            "image/png": "[encoded data removed]"
          },
          "metadata": {}
        }
      ]
    },
    {
      "cell_type": "code",
      "source": [
        "def predict_intent(text, model, vocab, intent_labels):\n",
        "    model.eval()\n",
        "\n",
        "    tokenized = text_to_sequence(text, vocab)\n",
        "    input_tensor = torch.tensor(tokenized).unsqueeze(0).to(device)\n",
        "    length = torch.tensor([len(tokenized)], dtype=torch.int64).cpu()\n",
        "\n",
        "    with torch.no_grad():\n",
        "        output = model(input_tensor, length)\n",
        "        predicted_label_idx = torch.argmax(output, dim=1).item()\n",
        "    predicted_label = [key for key, value in intent_labels.items() if value == predicted_label_idx][0]\n",
        "    return predicted_label\n",
        "\n",
        "print(predict_intent(\"play some music\", model, vocab, intent_labels))\n",
        "print(predict_intent(\"turn on the lights\", model, vocab, intent_labels))\n",
        "print(predict_intent(\"book a flight to New York\", model, vocab, intent_labels))\n"
      ],
      "metadata": {
        "colab": {
          "base_uri": "https://localhost:8080/"
        },
        "id": "OcLhoafXSwUU",
        "outputId": "535d226f-4e55-4fb5-b484-b244ae8c8171"
      },
      "execution_count": 31,
      "outputs": [
        {
          "output_type": "stream",
          "name": "stdout",
          "text": [
            "BookRestaurant\n",
            "BookRestaurant\n",
            "RequestRide\n"
          ]
        }
      ]
    },
    {
      "cell_type": "code",
      "source": [
        "# Import necessary libraries\n",
        "from sklearn.metrics import classification_report, accuracy_score, precision_score, recall_score, f1_score\n",
        "\n",
        "def generate_rnn_classification_report(model, dataloader, device, class_names):\n",
        "    \"\"\"\n",
        "    Evaluates the RNN model using accuracy, precision, recall, and F1-score.\n",
        "    \"\"\"\n",
        "    model.eval()  # Set model to evaluation mode\n",
        "    y_true, y_pred = [], []\n",
        "\n",
        "    with torch.no_grad():\n",
        "        for texts, labels in dataloader:\n",
        "            texts, labels = texts.to(device), labels.to(device)\n",
        "            lengths = (texts != vocab[\"<PAD>\"]).sum(dim=1).cpu()  # Get actual lengths\n",
        "\n",
        "            # Get model predictions\n",
        "            outputs = model(texts, lengths)\n",
        "            preds = torch.argmax(outputs, dim=1)\n",
        "\n",
        "            y_true.extend(labels.cpu().numpy())\n",
        "            y_pred.extend(preds.cpu().numpy())\n",
        "\n",
        "    # Calculate evaluation metrics\n",
        "    accuracy = accuracy_score(y_true, y_pred)\n",
        "    precision = precision_score(y_true, y_pred, average='weighted')\n",
        "    recall = recall_score(y_true, y_pred, average='weighted')\n",
        "    f1 = f1_score(y_true, y_pred, average='weighted')\n",
        "\n",
        "    # Print classification report\n",
        "    print(\"\\nClassification Report:\")\n",
        "    print(classification_report(y_true, y_pred, target_names=class_names))\n",
        "\n",
        "    # Print evaluation results\n",
        "    print(f\"Accuracy: {accuracy:.4f}\")\n",
        "    print(f\"Precision: {precision:.4f}\")\n",
        "    print(f\"Recall: {recall:.4f}\")\n",
        "    print(f\"F1-Score: {f1:.4f}\")\n",
        "\n",
        "# Define class names from the SNIPS dataset\n",
        "class_names = list(intent_labels.keys())\n",
        "\n",
        "# Call the classification report function\n",
        "generate_rnn_classification_report(model, val_loader, device, class_names)"
      ],
      "metadata": {
        "colab": {
          "base_uri": "https://localhost:8080/"
        },
        "id": "zk0L_SHZnBa_",
        "outputId": "e2fbd8c1-0040-4295-95e8-b3dde8b8fa17"
      },
      "execution_count": 32,
      "outputs": [
        {
          "output_type": "stream",
          "name": "stdout",
          "text": [
            "\n",
            "Classification Report:\n",
            "                       precision    recall  f1-score   support\n",
            "\n",
            " ShareCurrentLocation       0.67      0.67      0.67         3\n",
            "        ComparePlaces       0.20      1.00      0.33         1\n",
            "      GetPlaceDetails       0.42      0.50      0.45        10\n",
            "          SearchPlace       0.67      0.40      0.50         5\n",
            "       BookRestaurant       0.65      1.00      0.79        11\n",
            "          RequestRide       0.80      0.80      0.80         5\n",
            "        GetDirections       1.00      0.78      0.88         9\n",
            "             ShareETA       0.83      0.83      0.83         6\n",
            "GetTrafficInformation       0.00      0.00      0.00         5\n",
            "           GetWeather       0.88      0.64      0.74        11\n",
            "\n",
            "             accuracy                           0.67        66\n",
            "            macro avg       0.61      0.66      0.60        66\n",
            "         weighted avg       0.67      0.67      0.65        66\n",
            "\n",
            "Accuracy: 0.6667\n",
            "Precision: 0.6734\n",
            "Recall: 0.6667\n",
            "F1-Score: 0.6515\n"
          ]
        },
        {
          "output_type": "stream",
          "name": "stderr",
          "text": [
            "/usr/local/lib/python3.11/dist-packages/sklearn/metrics/_classification.py:1565: UndefinedMetricWarning: Precision is ill-defined and being set to 0.0 in labels with no predicted samples. Use `zero_division` parameter to control this behavior.\n",
            "  _warn_prf(average, modifier, f\"{metric.capitalize()} is\", len(result))\n",
            "/usr/local/lib/python3.11/dist-packages/sklearn/metrics/_classification.py:1565: UndefinedMetricWarning: Precision is ill-defined and being set to 0.0 in labels with no predicted samples. Use `zero_division` parameter to control this behavior.\n",
            "  _warn_prf(average, modifier, f\"{metric.capitalize()} is\", len(result))\n",
            "/usr/local/lib/python3.11/dist-packages/sklearn/metrics/_classification.py:1565: UndefinedMetricWarning: Precision is ill-defined and being set to 0.0 in labels with no predicted samples. Use `zero_division` parameter to control this behavior.\n",
            "  _warn_prf(average, modifier, f\"{metric.capitalize()} is\", len(result))\n",
            "/usr/local/lib/python3.11/dist-packages/sklearn/metrics/_classification.py:1565: UndefinedMetricWarning: Precision is ill-defined and being set to 0.0 in labels with no predicted samples. Use `zero_division` parameter to control this behavior.\n",
            "  _warn_prf(average, modifier, f\"{metric.capitalize()} is\", len(result))\n"
          ]
        }
      ]
    },
    {
      "cell_type": "code",
      "source": [
        "# Import necessary libraries\n",
        "from sklearn.metrics import confusion_matrix\n",
        "\n",
        "def plot_rnn_confusion_matrix(model, dataloader, device, class_names):\n",
        "    \"\"\"\n",
        "    Plots the confusion matrix to visualize misclassifications.\n",
        "    \"\"\"\n",
        "    model.eval()  # Set model to evaluation mode\n",
        "    y_true, y_pred = [], []\n",
        "\n",
        "    with torch.no_grad():\n",
        "        for texts, labels in dataloader:\n",
        "            texts, labels = texts.to(device), labels.to(device)\n",
        "            lengths = (texts != vocab[\"<PAD>\"]).sum(dim=1).cpu()  # Get actual lengths\n",
        "\n",
        "            # Get model predictions\n",
        "            outputs = model(texts, lengths)\n",
        "            preds = torch.argmax(outputs, dim=1)\n",
        "\n",
        "            y_true.extend(labels.cpu().numpy())\n",
        "            y_pred.extend(preds.cpu().numpy())\n",
        "\n",
        "    # Generate confusion matrix\n",
        "    cm = confusion_matrix(y_true, y_pred)\n",
        "\n",
        "    # Plot the confusion matrix\n",
        "    plt.figure(figsize=(10, 8))\n",
        "    sns.heatmap(cm, annot=True, fmt=\"d\", cmap=\"Blues\", cbar=False, xticklabels=class_names, yticklabels=class_names)\n",
        "    plt.xlabel('Predicted Labels')\n",
        "    plt.ylabel('True Labels')\n",
        "    plt.title('Confusion Matrix')\n",
        "    plt.show()\n",
        "\n",
        "# Call the confusion matrix function\n",
        "plot_rnn_confusion_matrix(model, val_loader, device, class_names)"
      ],
      "metadata": {
        "colab": {
          "base_uri": "https://localhost:8080/",
          "height": 855
        },
        "id": "i2aOB5HOnDKT",
        "outputId": "4afcf8d7-92fa-49f9-91a5-aaa476c5e3be"
      },
      "execution_count": 33,
      "outputs": [
        {
          "output_type": "display_data",
          "data": {
            "text/plain": [
              "<Figure size 1000x800 with 1 Axes>"
            ],
            "image/png": "[encoded data removed]"
          },
          "metadata": {}
        }
      ]
    },
    {
      "cell_type": "code",
      "source": [
        "import pickle\n",
        "\n",
        "# Save the vocabulary dictionary as 'vocab.pickle'\n",
        "with open(\"vocab.pickle\", \"wb\") as f:\n",
        "    pickle.dump(vocab, f)\n",
        "print(\"Saved vocab.pickle\")\n",
        "\n",
        "# Save the intent labels dictionary as 'intents_labels.pickle'\n",
        "with open(\"intents_labels.pickle\", \"wb\") as f:\n",
        "    pickle.dump(intent_labels, f)\n",
        "print(\"Saved intents_labels.pickle\")\n",
        "\n",
        "# Save the trained model's state dictionary as 'CVNL_RNN.pth'\n",
        "torch.save(model.state_dict(), \"CVNL_RNN.pth\")\n",
        "print(\"Saved CVNL_RNN.pth\")\n"
      ],
      "metadata": {
        "colab": {
          "base_uri": "https://localhost:8080/"
        },
        "id": "hbBttXdLQ664",
        "outputId": "f2baefea-6a91-4ef1-9d15-efe69b87737c"
      },
      "execution_count": 34,
      "outputs": [
        {
          "output_type": "stream",
          "name": "stdout",
          "text": [
            "Saved vocab.pickle\n",
            "Saved intents_labels.pickle\n",
            "Saved CVNL_RNN.pth\n"
          ]
        }
      ]
    }
  ]
}