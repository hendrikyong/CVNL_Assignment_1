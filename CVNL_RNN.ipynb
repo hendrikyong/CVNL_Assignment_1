{
  "nbformat": 4,
  "nbformat_minor": 0,
  "metadata": {
    "colab": {
      "provenance": [],
      "gpuType": "T4",
      "authorship_tag": "ABX9TyOSnq24JvIKiHdcD2k98NcS",
      "include_colab_link": true
    },
    "kernelspec": {
      "name": "python3",
      "display_name": "Python 3"
    },
    "language_info": {
      "name": "python"
    },
    "accelerator": "GPU"
  },
  "cells": [
    {
      "cell_type": "markdown",
      "metadata": {
        "id": "view-in-github",
        "colab_type": "text"
      },
      "source": [
        "<a href=\"https://colab.research.google.com/github/hendrikyong/CVNL_Assignment_1/blob/main/CVNL_RNN.ipynb\" target=\"_parent\"><img src=\"https://colab.research.google.com/assets/colab-badge.svg\" alt=\"Open In Colab\"/></a>"
      ]
    },
    {
      "cell_type": "code",
      "execution_count": 45,
      "metadata": {
        "colab": {
          "base_uri": "https://localhost:8080/"
        },
        "id": "b0-3ZX9xM0HH",
        "outputId": "e99cc7a1-8754-4d69-f874-390151b14cfa"
      },
      "outputs": [
        {
          "output_type": "stream",
          "name": "stderr",
          "text": [
            "[nltk_data] Downloading package punkt to /root/nltk_data...\n",
            "[nltk_data]   Package punkt is already up-to-date!\n",
            "[nltk_data] Downloading package punkt_tab to /root/nltk_data...\n",
            "[nltk_data]   Package punkt_tab is already up-to-date!\n"
          ]
        },
        {
          "output_type": "execute_result",
          "data": {
            "text/plain": [
              "True"
            ]
          },
          "metadata": {},
          "execution_count": 45
        }
      ],
      "source": [
        "import torch\n",
        "import torch.nn as nn\n",
        "import torch.optim as optim\n",
        "import torch.nn.functional as F\n",
        "from torch.utils.data import Dataset, DataLoader, random_split\n",
        "import nltk\n",
        "from nltk.tokenize import word_tokenize\n",
        "import requests\n",
        "import json\n",
        "from collections import Counter\n",
        "import pandas as pd\n",
        "import matplotlib.pyplot as plt\n",
        "import seaborn as sns\n",
        "from tqdm import tqdm\n",
        "\n",
        "nltk.download(\"punkt\")\n",
        "nltk.download('punkt_tab')"
      ]
    },
    {
      "cell_type": "code",
      "source": [
        "# get json dataset from github\n",
        "url = \"https://raw.githubusercontent.com/snipsco/nlu-benchmark/master/2016-12-built-in-intents/benchmark_data.json\"\n",
        "response = requests.get(url)\n",
        "\n",
        "if response.status_code == 200:\n",
        "    data = response.json()\n",
        "    print(\"Successfully fetched SNIPS dataset\")\n",
        "\n",
        "    # Extract intents and associated text queries\n",
        "    snips_data = {}\n",
        "    for domain in data[\"domains\"]:\n",
        "        for intent in domain[\"intents\"]:\n",
        "            intent_name = intent[\"benchmark\"][\"Snips\"][\"original_intent_name\"]\n",
        "            queries = [query[\"text\"] for query in intent[\"queries\"]]\n",
        "            snips_data[intent_name] = queries\n",
        "\n",
        "    print(f\"Total intents: {len(snips_data)}\")\n",
        "    print(\"Example intent:\", list(snips_data.keys())[0])\n",
        "    print(\"Example queries:\", snips_data[list(snips_data.keys())[0]][:5])\n",
        "else:\n",
        "    print(\"Failed to fetch SNIPS dataset\")"
      ],
      "metadata": {
        "colab": {
          "base_uri": "https://localhost:8080/"
        },
        "id": "rOwtzHUvP1Ji",
        "outputId": "972cefbf-c7be-4ee7-97b7-f4166d93c04c"
      },
      "execution_count": 46,
      "outputs": [
        {
          "output_type": "stream",
          "name": "stdout",
          "text": [
            "Successfully fetched SNIPS dataset\n",
            "Total intents: 10\n",
            "Example intent: ShareCurrentLocation\n",
            "Example queries: [\"Share my location with Hillary's sister\", 'Send my current location to my father', 'Share my current location with Jim', 'Send my location to my husband', 'Send my location']\n"
          ]
        }
      ]
    },
    {
      "cell_type": "code",
      "source": [
        "all_words = [word for queries in snips_data.values() for query in queries for word in word_tokenize(query.lower())]\n",
        "\n",
        "# build vocabulary\n",
        "vocab = {word: idx + 2 for idx, word in enumerate(Counter(all_words))}\n",
        "vocab[\"<PAD>\"] = 0\n",
        "vocab[\"<UNK>\"] = 1\n",
        "\n",
        "# map intent\n",
        "intent_labels = {intent: idx for idx, intent in enumerate(snips_data.keys())}\n",
        "\n",
        "def text_to_sequence(text, vocab, max_len=10):\n",
        "    tokens = [vocab.get(word, vocab[\"<UNK>\"]) for word in word_tokenize(text.lower())]\n",
        "    return tokens[:max_len] + [vocab[\"<PAD>\"]] * (max_len - len(tokens))\n",
        "\n",
        "sample_text = \"play some jazz music\"\n",
        "print(text_to_sequence(sample_text, vocab))\n"
      ],
      "metadata": {
        "colab": {
          "base_uri": "https://localhost:8080/"
        },
        "id": "E_guh4ZVP5q1",
        "outputId": "5aaecca2-e8f6-4d1f-a2e7-b0aab94032e8"
      },
      "execution_count": 47,
      "outputs": [
        {
          "output_type": "stream",
          "name": "stdout",
          "text": [
            "[1, 257, 212, 1, 0, 0, 0, 0, 0, 0]\n"
          ]
        }
      ]
    },
    {
      "cell_type": "code",
      "source": [
        "class SNIPSDataset(torch.utils.data.Dataset):\n",
        "    def __init__(self, data, vocab, intent_labels, max_len=10):\n",
        "        self.data = data\n",
        "        self.vocab = vocab\n",
        "        self.intent_labels = intent_labels\n",
        "        self.max_len = max_len\n",
        "        self.samples = [(query, intent) for intent, queries in data.items() for query in queries]\n",
        "\n",
        "    def __len__(self):\n",
        "        return len(self.samples)\n",
        "\n",
        "    def __getitem__(self, idx):\n",
        "        text, intent = self.samples[idx]\n",
        "        tokenized_text = text_to_sequence(text, self.vocab, self.max_len)\n",
        "        label = self.intent_labels[intent]\n",
        "        return torch.tensor(tokenized_text), torch.tensor(label)\n",
        "\n",
        "# create dataset, split into test and evaluation\n",
        "full_dataset = SNIPSDataset(snips_data, vocab, intent_labels)\n",
        "train_size = int(0.8 * len(full_dataset))\n",
        "val_size = len(full_dataset) - train_size\n",
        "train_dataset, val_dataset = random_split(full_dataset, [train_size, val_size])\n",
        "\n",
        "train_loader = DataLoader(train_dataset, batch_size=32, shuffle=True)\n",
        "val_loader = DataLoader(val_dataset, batch_size=32, shuffle=False)\n"
      ],
      "metadata": {
        "id": "FQHaiC5FRYSi"
      },
      "execution_count": 48,
      "outputs": []
    },
    {
      "cell_type": "code",
      "source": [
        "class IntentBiRNN(nn.Module):\n",
        "    def __init__(self, vocab_size, embed_dim, hidden_dim, output_dim, num_layers=1, dropout=0.5):\n",
        "        super(IntentBiRNN, self).__init__()\n",
        "        self.embedding = nn.Embedding(vocab_size, embed_dim, padding_idx=0)\n",
        "        self.rnn = nn.RNN(embed_dim, hidden_dim, num_layers=num_layers,\n",
        "                          batch_first=True, bidirectional=True, dropout=dropout)\n",
        "        self.fc = nn.Linear(hidden_dim * 2, output_dim)\n",
        "\n",
        "    def forward(self, x, lengths):\n",
        "        x_embedded = self.embedding(x)\n",
        "\n",
        "        # pack\n",
        "        x_packed = torch.nn.utils.rnn.pack_padded_sequence(x_embedded, lengths.cpu(), batch_first=True, enforce_sorted=False)\n",
        "        packed_output, hidden = self.rnn(x_packed)\n",
        "\n",
        "        # extract last hidden state for both directions\n",
        "        hidden = hidden.view(self.rnn.num_layers, 2, x.size(0), self.rnn.hidden_size)\n",
        "        hidden = torch.cat((hidden[-1, 0], hidden[-1, 1]), dim=1)\n",
        "\n",
        "        return self.fc(hidden)\n",
        "\n",
        "device = torch.device(\"cuda\" if torch.cuda.is_available() else \"cpu\")\n",
        "model = IntentBiRNN(len(vocab), embed_dim=64, hidden_dim=64, output_dim=len(intent_labels)).to(device)\n"
      ],
      "metadata": {
        "colab": {
          "base_uri": "https://localhost:8080/"
        },
        "id": "qTczd4mcSJvq",
        "outputId": "24641229-9d34-4683-dcef-f38fc6350820"
      },
      "execution_count": 49,
      "outputs": [
        {
          "output_type": "stream",
          "name": "stderr",
          "text": [
            "/usr/local/lib/python3.11/dist-packages/torch/nn/modules/rnn.py:123: UserWarning: dropout option adds dropout after all but last recurrent layer, so non-zero dropout expects num_layers greater than 1, but got dropout=0.5 and num_layers=1\n",
            "  warnings.warn(\n"
          ]
        }
      ]
    },
    {
      "cell_type": "code",
      "source": [
        "from tqdm import tqdm\n",
        "\n",
        "optimizer = torch.optim.Adam(model.parameters(), lr=0.001, weight_decay=1e-3)\n",
        "criterion = nn.CrossEntropyLoss()\n",
        "scheduler = torch.optim.lr_scheduler.StepLR(optimizer, step_size=5, gamma=0.5)  # reduce lr every 5 epochs\n",
        "\n",
        "num_epochs = 20\n",
        "patience = 3\n",
        "best_val_loss = float(\"inf\")\n",
        "no_improve = 0\n",
        "\n",
        "train_losses, val_losses = [], []\n",
        "train_accuracies, val_accuracies = [], []\n",
        "\n",
        "for epoch in range(num_epochs):\n",
        "    model.train()\n",
        "    total_train_loss = 0\n",
        "    correct_train = 0\n",
        "    total_train = 0\n",
        "\n",
        "    with tqdm(train_loader, desc=f\"Epoch {epoch+1}/{num_epochs}\", unit=\"batch\") as pbar:\n",
        "        for texts, labels in pbar:\n",
        "            texts, labels = texts.to(device), labels.to(device)\n",
        "            lengths = (texts != vocab[\"<PAD>\"]).sum(dim=1).cpu()\n",
        "\n",
        "            optimizer.zero_grad()\n",
        "            outputs = model(texts, lengths)\n",
        "\n",
        "            loss = criterion(outputs, labels)\n",
        "            loss.backward()\n",
        "            optimizer.step()\n",
        "\n",
        "            total_train_loss += loss.item()\n",
        "            predictions = torch.argmax(outputs, dim=1)\n",
        "            correct_train += (predictions == labels).sum().item()\n",
        "            total_train += labels.size(0)\n",
        "\n",
        "            pbar.set_postfix(Loss=f\"{loss.item():.4f}\")\n",
        "\n",
        "    train_losses.append(total_train_loss / len(train_loader))\n",
        "    train_accuracies.append(100.0 * correct_train / total_train)\n",
        "\n",
        "    model.eval()\n",
        "    total_val_loss = 0\n",
        "    correct_val = 0\n",
        "    total_val = 0\n",
        "\n",
        "    with torch.no_grad():\n",
        "        for texts, labels in val_loader:\n",
        "            texts, labels = texts.to(device), labels.to(device)\n",
        "            lengths = (texts != vocab[\"<PAD>\"]).sum(dim=1).cpu()\n",
        "\n",
        "            outputs = model(texts, lengths)\n",
        "            loss = criterion(outputs, labels)\n",
        "\n",
        "            total_val_loss += loss.item()\n",
        "\n",
        "            predictions = torch.argmax(outputs, dim=1)\n",
        "            correct_val += (predictions == labels).sum().item()\n",
        "            total_val += labels.size(0)\n",
        "\n",
        "    val_losses.append(total_val_loss / len(val_loader))\n",
        "    val_accuracies.append(100.0 * correct_val / total_val)\n",
        "\n",
        "    print(f\"Epoch {epoch+1}:\")\n",
        "    print(f\"  Train Loss: {train_losses[-1]:.4f}, Train Accuracy: {train_accuracies[-1]:.2f}%\")\n",
        "    print(f\"  Val Loss: {val_losses[-1]:.4f}, Val Accuracy: {val_accuracies[-1]:.2f}%\")\n",
        "\n",
        "    # implement early stopping\n",
        "    if val_losses[-1] < best_val_loss:\n",
        "        best_val_loss = val_losses[-1]\n",
        "        no_improve = 0  # reset\n",
        "    else:\n",
        "        no_improve += 1\n",
        "        print(f\"No improvement in validation loss for {no_improve} epoch(s).\")\n",
        "\n",
        "    if no_improve >= patience:\n",
        "        print(\"Early stopping triggered.\")\n",
        "        break\n",
        "\n",
        "    # update learning rate scheduler\n",
        "    scheduler.step()\n",
        "    print(f\"Learning Rate: {scheduler.get_last_lr()[0]:.6f}\")\n"
      ],
      "metadata": {
        "colab": {
          "base_uri": "https://localhost:8080/"
        },
        "id": "rlroJbMASoG9",
        "outputId": "eda0266d-d5ee-454a-97e1-9a1c62c2f550"
      },
      "execution_count": 53,
      "outputs": [
        {
          "output_type": "stream",
          "name": "stderr",
          "text": [
            "Epoch 1/20: 100%|██████████| 9/9 [00:00<00:00, 107.07batch/s, Loss=0.6133]\n"
          ]
        },
        {
          "output_type": "stream",
          "name": "stdout",
          "text": [
            "Epoch 1:\n",
            "  Train Loss: 0.5753, Train Accuracy: 89.69%\n",
            "  Val Loss: 0.9106, Val Accuracy: 72.73%\n",
            "Learning Rate: 0.001000\n"
          ]
        },
        {
          "output_type": "stream",
          "name": "stderr",
          "text": [
            "Epoch 2/20: 100%|██████████| 9/9 [00:00<00:00, 102.27batch/s, Loss=0.4932]\n"
          ]
        },
        {
          "output_type": "stream",
          "name": "stdout",
          "text": [
            "Epoch 2:\n",
            "  Train Loss: 0.4574, Train Accuracy: 93.51%\n",
            "  Val Loss: 0.8711, Val Accuracy: 72.73%\n",
            "Learning Rate: 0.001000\n"
          ]
        },
        {
          "output_type": "stream",
          "name": "stderr",
          "text": [
            "Epoch 3/20: 100%|██████████| 9/9 [00:00<00:00, 74.57batch/s, Loss=0.1756]\n"
          ]
        },
        {
          "output_type": "stream",
          "name": "stdout",
          "text": [
            "Epoch 3:\n",
            "  Train Loss: 0.3597, Train Accuracy: 95.04%\n",
            "  Val Loss: 0.7910, Val Accuracy: 72.73%\n",
            "Learning Rate: 0.001000\n"
          ]
        },
        {
          "output_type": "stream",
          "name": "stderr",
          "text": [
            "Epoch 4/20: 100%|██████████| 9/9 [00:00<00:00, 69.67batch/s, Loss=0.1400]\n"
          ]
        },
        {
          "output_type": "stream",
          "name": "stdout",
          "text": [
            "Epoch 4:\n",
            "  Train Loss: 0.2921, Train Accuracy: 97.71%\n",
            "  Val Loss: 0.7447, Val Accuracy: 77.27%\n",
            "Learning Rate: 0.001000\n"
          ]
        },
        {
          "output_type": "stream",
          "name": "stderr",
          "text": [
            "Epoch 5/20: 100%|██████████| 9/9 [00:00<00:00, 77.24batch/s, Loss=0.7072]\n"
          ]
        },
        {
          "output_type": "stream",
          "name": "stdout",
          "text": [
            "Epoch 5:\n",
            "  Train Loss: 0.2941, Train Accuracy: 97.71%\n",
            "  Val Loss: 0.6936, Val Accuracy: 77.27%\n",
            "Learning Rate: 0.000500\n"
          ]
        },
        {
          "output_type": "stream",
          "name": "stderr",
          "text": [
            "Epoch 6/20: 100%|██████████| 9/9 [00:00<00:00, 59.39batch/s, Loss=0.0872]\n"
          ]
        },
        {
          "output_type": "stream",
          "name": "stdout",
          "text": [
            "Epoch 6:\n",
            "  Train Loss: 0.1997, Train Accuracy: 98.47%\n",
            "  Val Loss: 0.6655, Val Accuracy: 78.79%\n",
            "Learning Rate: 0.000500\n"
          ]
        },
        {
          "output_type": "stream",
          "name": "stderr",
          "text": [
            "Epoch 7/20: 100%|██████████| 9/9 [00:00<00:00, 58.98batch/s, Loss=0.0661]\n"
          ]
        },
        {
          "output_type": "stream",
          "name": "stdout",
          "text": [
            "Epoch 7:\n",
            "  Train Loss: 0.1808, Train Accuracy: 98.85%\n",
            "  Val Loss: 0.6475, Val Accuracy: 78.79%\n",
            "Learning Rate: 0.000500\n"
          ]
        },
        {
          "output_type": "stream",
          "name": "stderr",
          "text": [
            "Epoch 8/20: 100%|██████████| 9/9 [00:00<00:00, 68.59batch/s, Loss=0.3786]\n"
          ]
        },
        {
          "output_type": "stream",
          "name": "stdout",
          "text": [
            "Epoch 8:\n",
            "  Train Loss: 0.1935, Train Accuracy: 99.24%\n",
            "  Val Loss: 0.6307, Val Accuracy: 78.79%\n",
            "Learning Rate: 0.000500\n"
          ]
        },
        {
          "output_type": "stream",
          "name": "stderr",
          "text": [
            "Epoch 9/20: 100%|██████████| 9/9 [00:00<00:00, 70.16batch/s, Loss=0.1582]\n"
          ]
        },
        {
          "output_type": "stream",
          "name": "stdout",
          "text": [
            "Epoch 9:\n",
            "  Train Loss: 0.1582, Train Accuracy: 99.62%\n",
            "  Val Loss: 0.6190, Val Accuracy: 78.79%\n",
            "Learning Rate: 0.000500\n"
          ]
        },
        {
          "output_type": "stream",
          "name": "stderr",
          "text": [
            "Epoch 10/20: 100%|██████████| 9/9 [00:00<00:00, 82.39batch/s, Loss=0.1248]\n"
          ]
        },
        {
          "output_type": "stream",
          "name": "stdout",
          "text": [
            "Epoch 10:\n",
            "  Train Loss: 0.1429, Train Accuracy: 99.62%\n",
            "  Val Loss: 0.6029, Val Accuracy: 77.27%\n",
            "Learning Rate: 0.000250\n"
          ]
        },
        {
          "output_type": "stream",
          "name": "stderr",
          "text": [
            "Epoch 11/20: 100%|██████████| 9/9 [00:00<00:00, 86.29batch/s, Loss=0.0594]\n"
          ]
        },
        {
          "output_type": "stream",
          "name": "stdout",
          "text": [
            "Epoch 11:\n",
            "  Train Loss: 0.1267, Train Accuracy: 99.62%\n",
            "  Val Loss: 0.5926, Val Accuracy: 78.79%\n",
            "Learning Rate: 0.000250\n"
          ]
        },
        {
          "output_type": "stream",
          "name": "stderr",
          "text": [
            "Epoch 12/20: 100%|██████████| 9/9 [00:00<00:00, 71.14batch/s, Loss=0.1140]\n"
          ]
        },
        {
          "output_type": "stream",
          "name": "stdout",
          "text": [
            "Epoch 12:\n",
            "  Train Loss: 0.1261, Train Accuracy: 99.62%\n",
            "  Val Loss: 0.5872, Val Accuracy: 78.79%\n",
            "Learning Rate: 0.000250\n"
          ]
        },
        {
          "output_type": "stream",
          "name": "stderr",
          "text": [
            "Epoch 13/20: 100%|██████████| 9/9 [00:00<00:00, 64.86batch/s, Loss=0.1766]\n"
          ]
        },
        {
          "output_type": "stream",
          "name": "stdout",
          "text": [
            "Epoch 13:\n",
            "  Train Loss: 0.1263, Train Accuracy: 99.62%\n",
            "  Val Loss: 0.5797, Val Accuracy: 78.79%\n",
            "Learning Rate: 0.000250\n"
          ]
        },
        {
          "output_type": "stream",
          "name": "stderr",
          "text": [
            "Epoch 14/20: 100%|██████████| 9/9 [00:00<00:00, 73.09batch/s, Loss=0.0739]\n"
          ]
        },
        {
          "output_type": "stream",
          "name": "stdout",
          "text": [
            "Epoch 14:\n",
            "  Train Loss: 0.1122, Train Accuracy: 99.62%\n",
            "  Val Loss: 0.5798, Val Accuracy: 77.27%\n",
            "No improvement in validation loss for 1 epoch(s).\n",
            "Learning Rate: 0.000250\n"
          ]
        },
        {
          "output_type": "stream",
          "name": "stderr",
          "text": [
            "Epoch 15/20: 100%|██████████| 9/9 [00:00<00:00, 79.57batch/s, Loss=0.1354]\n"
          ]
        },
        {
          "output_type": "stream",
          "name": "stdout",
          "text": [
            "Epoch 15:\n",
            "  Train Loss: 0.1128, Train Accuracy: 100.00%\n",
            "  Val Loss: 0.5737, Val Accuracy: 77.27%\n",
            "Learning Rate: 0.000125\n"
          ]
        },
        {
          "output_type": "stream",
          "name": "stderr",
          "text": [
            "Epoch 16/20: 100%|██████████| 9/9 [00:00<00:00, 77.48batch/s, Loss=0.1071]\n"
          ]
        },
        {
          "output_type": "stream",
          "name": "stdout",
          "text": [
            "Epoch 16:\n",
            "  Train Loss: 0.1062, Train Accuracy: 100.00%\n",
            "  Val Loss: 0.5711, Val Accuracy: 77.27%\n",
            "Learning Rate: 0.000125\n"
          ]
        },
        {
          "output_type": "stream",
          "name": "stderr",
          "text": [
            "Epoch 17/20: 100%|██████████| 9/9 [00:00<00:00, 73.29batch/s, Loss=0.0665]\n"
          ]
        },
        {
          "output_type": "stream",
          "name": "stdout",
          "text": [
            "Epoch 17:\n",
            "  Train Loss: 0.1004, Train Accuracy: 100.00%\n",
            "  Val Loss: 0.5677, Val Accuracy: 77.27%\n",
            "Learning Rate: 0.000125\n"
          ]
        },
        {
          "output_type": "stream",
          "name": "stderr",
          "text": [
            "Epoch 18/20: 100%|██████████| 9/9 [00:00<00:00, 67.73batch/s, Loss=0.0696]\n"
          ]
        },
        {
          "output_type": "stream",
          "name": "stdout",
          "text": [
            "Epoch 18:\n",
            "  Train Loss: 0.0984, Train Accuracy: 100.00%\n",
            "  Val Loss: 0.5642, Val Accuracy: 77.27%\n",
            "Learning Rate: 0.000125\n"
          ]
        },
        {
          "output_type": "stream",
          "name": "stderr",
          "text": [
            "Epoch 19/20: 100%|██████████| 9/9 [00:00<00:00, 59.83batch/s, Loss=0.0713]\n"
          ]
        },
        {
          "output_type": "stream",
          "name": "stdout",
          "text": [
            "Epoch 19:\n",
            "  Train Loss: 0.0964, Train Accuracy: 100.00%\n",
            "  Val Loss: 0.5607, Val Accuracy: 77.27%\n",
            "Learning Rate: 0.000125\n"
          ]
        },
        {
          "output_type": "stream",
          "name": "stderr",
          "text": [
            "Epoch 20/20: 100%|██████████| 9/9 [00:00<00:00, 54.50batch/s, Loss=0.0550]"
          ]
        },
        {
          "output_type": "stream",
          "name": "stdout",
          "text": [
            "Epoch 20:\n",
            "  Train Loss: 0.0929, Train Accuracy: 100.00%\n",
            "  Val Loss: 0.5596, Val Accuracy: 77.27%\n",
            "Learning Rate: 0.000063\n"
          ]
        },
        {
          "output_type": "stream",
          "name": "stderr",
          "text": [
            "\n"
          ]
        }
      ]
    },
    {
      "cell_type": "code",
      "source": [
        "plt.figure(figsize=(8, 6))\n",
        "epochs = range(1, len(train_losses) + 1)\n",
        "plt.plot(epochs, train_losses, label=\"Training Loss\", marker='o')\n",
        "plt.plot(epochs, val_losses, label=\"Validation Loss\", marker='o')\n",
        "plt.xlabel(\"Epochs\")\n",
        "plt.ylabel(\"Loss\")\n",
        "plt.title(\"Training vs Validation Loss\")\n",
        "plt.legend()\n",
        "plt.show()\n"
      ],
      "metadata": {
        "colab": {
          "base_uri": "https://localhost:8080/",
          "height": 564
        },
        "id": "VjbX6RIVSt_9",
        "outputId": "7a4cd2e4-a252-4220-8cbf-fd99b13d4f98"
      },
      "execution_count": 54,
      "outputs": [
        {
          "output_type": "display_data",
          "data": {
            "text/plain": [
              "<Figure size 800x600 with 1 Axes>"
            ],
            "image/png": "[encoded data removed]"
          },
          "metadata": {}
        }
      ]
    },
    {
      "cell_type": "code",
      "source": [
        "def predict_intent(text, model, vocab, intent_labels):\n",
        "    model.eval()\n",
        "\n",
        "    tokenized = text_to_sequence(text, vocab)\n",
        "    input_tensor = torch.tensor(tokenized).unsqueeze(0).to(device)\n",
        "    length = torch.tensor([len(tokenized)], dtype=torch.int64).cpu()\n",
        "\n",
        "    with torch.no_grad():\n",
        "        output = model(input_tensor, length)\n",
        "        predicted_label_idx = torch.argmax(output, dim=1).item()\n",
        "    predicted_label = [key for key, value in intent_labels.items() if value == predicted_label_idx][0]\n",
        "    return predicted_label\n",
        "\n",
        "print(predict_intent(\"play some music\", model, vocab, intent_labels))\n",
        "print(predict_intent(\"turn on the lights\", model, vocab, intent_labels))\n",
        "print(predict_intent(\"book a flight to New York\", model, vocab, intent_labels))\n"
      ],
      "metadata": {
        "colab": {
          "base_uri": "https://localhost:8080/"
        },
        "id": "OcLhoafXSwUU",
        "outputId": "9bdf1509-2a8d-4254-806f-d15cd4d3a5e5"
      },
      "execution_count": 57,
      "outputs": [
        {
          "output_type": "stream",
          "name": "stdout",
          "text": [
            "SearchPlace\n",
            "GetPlaceDetails\n",
            "RequestRide\n"
          ]
        }
      ]
    }
  ]
}