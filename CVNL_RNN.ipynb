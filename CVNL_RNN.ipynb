{
  "nbformat": 4,
  "nbformat_minor": 0,
  "metadata": {
    "colab": {
      "provenance": [],
      "gpuType": "T4",
      "include_colab_link": true
    },
    "kernelspec": {
      "name": "python3",
      "display_name": "Python 3"
    },
    "language_info": {
      "name": "python"
    },
    "accelerator": "GPU"
  },
  "cells": [
    {
      "cell_type": "markdown",
      "metadata": {
        "id": "view-in-github",
        "colab_type": "text"
      },
      "source": [
        "<a href=\"https://colab.research.google.com/github/hendrikyong/CVNL_Assignment_1/blob/main/CVNL_RNN.ipynb\" target=\"_parent\"><img src=\"https://colab.research.google.com/assets/colab-badge.svg\" alt=\"Open In Colab\"/></a>"
      ]
    },
    {
      "cell_type": "code",
      "execution_count": 16,
      "metadata": {
        "colab": {
          "base_uri": "https://localhost:8080/"
        },
        "id": "b0-3ZX9xM0HH",
        "outputId": "22573b15-eaa4-4d3a-b9ee-df10cdb54170"
      },
      "outputs": [
        {
          "output_type": "stream",
          "name": "stderr",
          "text": [
            "[nltk_data] Downloading package punkt to /root/nltk_data...\n",
            "[nltk_data]   Package punkt is already up-to-date!\n",
            "[nltk_data] Downloading package punkt_tab to /root/nltk_data...\n",
            "[nltk_data]   Package punkt_tab is already up-to-date!\n"
          ]
        },
        {
          "output_type": "execute_result",
          "data": {
            "text/plain": [
              "True"
            ]
          },
          "metadata": {},
          "execution_count": 16
        }
      ],
      "source": [
        "import torch\n",
        "import torch.nn as nn\n",
        "import torch.optim as optim\n",
        "import torch.nn.functional as F\n",
        "from torch.utils.data import Dataset, DataLoader, random_split\n",
        "import nltk\n",
        "from nltk.tokenize import word_tokenize\n",
        "import requests\n",
        "import json\n",
        "from collections import Counter\n",
        "import pandas as pd\n",
        "import matplotlib.pyplot as plt\n",
        "import seaborn as sns\n",
        "from tqdm import tqdm\n",
        "\n",
        "nltk.download(\"punkt\")\n",
        "nltk.download('punkt_tab')"
      ]
    },
    {
      "cell_type": "code",
      "source": [
        "# get json dataset from github\n",
        "url = \"https://raw.githubusercontent.com/snipsco/nlu-benchmark/master/2016-12-built-in-intents/benchmark_data.json\"\n",
        "response = requests.get(url)\n",
        "\n",
        "if response.status_code == 200:\n",
        "    data = response.json()\n",
        "    print(\"Successfully fetched SNIPS dataset\")\n",
        "\n",
        "    # Extract intents and associated text queries\n",
        "    snips_data = {}\n",
        "    for domain in data[\"domains\"]:\n",
        "        for intent in domain[\"intents\"]:\n",
        "            intent_name = intent[\"benchmark\"][\"Snips\"][\"original_intent_name\"]\n",
        "            queries = [query[\"text\"] for query in intent[\"queries\"]]\n",
        "            snips_data[intent_name] = queries\n",
        "\n",
        "    print(f\"Total intents: {len(snips_data)}\")\n",
        "    print(\"Example intent:\", list(snips_data.keys())[0])\n",
        "    print(\"Example queries:\", snips_data[list(snips_data.keys())[0]][:5])\n",
        "else:\n",
        "    print(\"Failed to fetch SNIPS dataset\")"
      ],
      "metadata": {
        "colab": {
          "base_uri": "https://localhost:8080/"
        },
        "id": "rOwtzHUvP1Ji",
        "outputId": "4a44371c-c683-4a6b-b5f4-6818e81d925b"
      },
      "execution_count": 17,
      "outputs": [
        {
          "output_type": "stream",
          "name": "stdout",
          "text": [
            "Successfully fetched SNIPS dataset\n",
            "Total intents: 10\n",
            "Example intent: ShareCurrentLocation\n",
            "Example queries: [\"Share my location with Hillary's sister\", 'Send my current location to my father', 'Share my current location with Jim', 'Send my location to my husband', 'Send my location']\n"
          ]
        }
      ]
    },
    {
      "cell_type": "code",
      "source": [
        "all_words = [word for queries in snips_data.values() for query in queries for word in word_tokenize(query.lower())]\n",
        "\n",
        "# build vocabulary\n",
        "vocab = {word: idx + 2 for idx, word in enumerate(Counter(all_words))}\n",
        "vocab[\"<PAD>\"] = 0\n",
        "vocab[\"<UNK>\"] = 1\n",
        "\n",
        "# map intent\n",
        "intent_labels = {intent: idx for idx, intent in enumerate(snips_data.keys())}\n",
        "\n",
        "def text_to_sequence(text, vocab, max_len=10):\n",
        "    tokens = [vocab.get(word, vocab[\"<UNK>\"]) for word in word_tokenize(text.lower())]\n",
        "    return tokens[:max_len] + [vocab[\"<PAD>\"]] * (max_len - len(tokens))\n",
        "\n",
        "sample_text = \"play some jazz music\"\n",
        "print(text_to_sequence(sample_text, vocab))\n"
      ],
      "metadata": {
        "colab": {
          "base_uri": "https://localhost:8080/"
        },
        "id": "E_guh4ZVP5q1",
        "outputId": "d4e434dd-796c-476f-a215-582ed17e8a11"
      },
      "execution_count": 18,
      "outputs": [
        {
          "output_type": "stream",
          "name": "stdout",
          "text": [
            "[1, 257, 212, 1, 0, 0, 0, 0, 0, 0]\n"
          ]
        }
      ]
    },
    {
      "cell_type": "code",
      "source": [
        "class SNIPSDataset(torch.utils.data.Dataset):\n",
        "    def __init__(self, data, vocab, intent_labels, max_len=10):\n",
        "        self.data = data\n",
        "        self.vocab = vocab\n",
        "        self.intent_labels = intent_labels\n",
        "        self.max_len = max_len\n",
        "        self.samples = [(query, intent) for intent, queries in data.items() for query in queries]\n",
        "\n",
        "    def __len__(self):\n",
        "        return len(self.samples)\n",
        "\n",
        "    def __getitem__(self, idx):\n",
        "        text, intent = self.samples[idx]\n",
        "        tokenized_text = text_to_sequence(text, self.vocab, self.max_len)\n",
        "        label = self.intent_labels[intent]\n",
        "        return torch.tensor(tokenized_text), torch.tensor(label)\n",
        "\n",
        "# create dataset, split into test and evaluation\n",
        "full_dataset = SNIPSDataset(snips_data, vocab, intent_labels)\n",
        "train_size = int(0.8 * len(full_dataset))\n",
        "val_size = len(full_dataset) - train_size\n",
        "train_dataset, val_dataset = random_split(full_dataset, [train_size, val_size])\n",
        "\n",
        "train_loader = DataLoader(train_dataset, batch_size=32, shuffle=True)\n",
        "val_loader = DataLoader(val_dataset, batch_size=32, shuffle=False)\n"
      ],
      "metadata": {
        "id": "FQHaiC5FRYSi"
      },
      "execution_count": 19,
      "outputs": []
    },
    {
      "cell_type": "code",
      "source": [
        "class IntentBiRNN(nn.Module):\n",
        "    def __init__(self, vocab_size, embed_dim, hidden_dim, output_dim, num_layers=1, dropout=0.5):\n",
        "        super(IntentBiRNN, self).__init__()\n",
        "        self.embedding = nn.Embedding(vocab_size, embed_dim, padding_idx=0)\n",
        "        self.rnn = nn.RNN(embed_dim, hidden_dim, num_layers=num_layers,\n",
        "                          batch_first=True, bidirectional=True, dropout=dropout)\n",
        "        self.fc = nn.Linear(hidden_dim * 2, output_dim)\n",
        "\n",
        "    def forward(self, x, lengths):\n",
        "        x_embedded = self.embedding(x)\n",
        "\n",
        "        # pack\n",
        "        x_packed = torch.nn.utils.rnn.pack_padded_sequence(x_embedded, lengths.cpu(), batch_first=True, enforce_sorted=False)\n",
        "        packed_output, hidden = self.rnn(x_packed)\n",
        "\n",
        "        # extract last hidden state for both directions\n",
        "        hidden = hidden.view(self.rnn.num_layers, 2, x.size(0), self.rnn.hidden_size)\n",
        "        hidden = torch.cat((hidden[-1, 0], hidden[-1, 1]), dim=1)\n",
        "\n",
        "        return self.fc(hidden)\n",
        "\n",
        "device = torch.device(\"cuda\" if torch.cuda.is_available() else \"cpu\")\n",
        "model = IntentBiRNN(len(vocab), embed_dim=64, hidden_dim=64, output_dim=len(intent_labels)).to(device)\n"
      ],
      "metadata": {
        "colab": {
          "base_uri": "https://localhost:8080/"
        },
        "id": "qTczd4mcSJvq",
        "outputId": "2e3bcfb9-6531-4069-b57f-2117eb4cfdc6"
      },
      "execution_count": 20,
      "outputs": [
        {
          "output_type": "stream",
          "name": "stderr",
          "text": [
            "/usr/local/lib/python3.11/dist-packages/torch/nn/modules/rnn.py:123: UserWarning: dropout option adds dropout after all but last recurrent layer, so non-zero dropout expects num_layers greater than 1, but got dropout=0.5 and num_layers=1\n",
            "  warnings.warn(\n"
          ]
        }
      ]
    },
    {
      "cell_type": "code",
      "source": [
        "from tqdm import tqdm\n",
        "\n",
        "optimizer = torch.optim.Adam(model.parameters(), lr=0.001, weight_decay=1e-3)\n",
        "criterion = nn.CrossEntropyLoss()\n",
        "scheduler = torch.optim.lr_scheduler.StepLR(optimizer, step_size=5, gamma=0.5)  # reduce lr every 5 epochs\n",
        "\n",
        "num_epochs = 20\n",
        "patience = 3\n",
        "best_val_loss = float(\"inf\")\n",
        "no_improve = 0\n",
        "\n",
        "train_losses, val_losses = [], []\n",
        "train_accuracies, val_accuracies = [], []\n",
        "\n",
        "for epoch in range(num_epochs):\n",
        "    model.train()\n",
        "    total_train_loss = 0\n",
        "    correct_train = 0\n",
        "    total_train = 0\n",
        "\n",
        "    with tqdm(train_loader, desc=f\"Epoch {epoch+1}/{num_epochs}\", unit=\"batch\") as pbar:\n",
        "        for texts, labels in pbar:\n",
        "            texts, labels = texts.to(device), labels.to(device)\n",
        "            lengths = (texts != vocab[\"<PAD>\"]).sum(dim=1).cpu()\n",
        "\n",
        "            optimizer.zero_grad()\n",
        "            outputs = model(texts, lengths)\n",
        "\n",
        "            loss = criterion(outputs, labels)\n",
        "            loss.backward()\n",
        "            optimizer.step()\n",
        "\n",
        "            total_train_loss += loss.item()\n",
        "            predictions = torch.argmax(outputs, dim=1)\n",
        "            correct_train += (predictions == labels).sum().item()\n",
        "            total_train += labels.size(0)\n",
        "\n",
        "            pbar.set_postfix(Loss=f\"{loss.item():.4f}\")\n",
        "\n",
        "    train_losses.append(total_train_loss / len(train_loader))\n",
        "    train_accuracies.append(100.0 * correct_train / total_train)\n",
        "\n",
        "    model.eval()\n",
        "    total_val_loss = 0\n",
        "    correct_val = 0\n",
        "    total_val = 0\n",
        "\n",
        "    with torch.no_grad():\n",
        "        for texts, labels in val_loader:\n",
        "            texts, labels = texts.to(device), labels.to(device)\n",
        "            lengths = (texts != vocab[\"<PAD>\"]).sum(dim=1).cpu()\n",
        "\n",
        "            outputs = model(texts, lengths)\n",
        "            loss = criterion(outputs, labels)\n",
        "\n",
        "            total_val_loss += loss.item()\n",
        "\n",
        "            predictions = torch.argmax(outputs, dim=1)\n",
        "            correct_val += (predictions == labels).sum().item()\n",
        "            total_val += labels.size(0)\n",
        "\n",
        "    val_losses.append(total_val_loss / len(val_loader))\n",
        "    val_accuracies.append(100.0 * correct_val / total_val)\n",
        "\n",
        "    print(f\"Epoch {epoch+1}:\")\n",
        "    print(f\"  Train Loss: {train_losses[-1]:.4f}, Train Accuracy: {train_accuracies[-1]:.2f}%\")\n",
        "    print(f\"  Val Loss: {val_losses[-1]:.4f}, Val Accuracy: {val_accuracies[-1]:.2f}%\")\n",
        "\n",
        "    # implement early stopping\n",
        "    if val_losses[-1] < best_val_loss:\n",
        "        best_val_loss = val_losses[-1]\n",
        "        no_improve = 0  # reset\n",
        "    else:\n",
        "        no_improve += 1\n",
        "        print(f\"No improvement in validation loss for {no_improve} epoch(s).\")\n",
        "\n",
        "    if no_improve >= patience:\n",
        "        print(\"Early stopping triggered.\")\n",
        "        break\n",
        "\n",
        "    # update learning rate scheduler\n",
        "    scheduler.step()\n",
        "    print(f\"Learning Rate: {scheduler.get_last_lr()[0]:.6f}\")\n"
      ],
      "metadata": {
        "colab": {
          "base_uri": "https://localhost:8080/"
        },
        "id": "rlroJbMASoG9",
        "outputId": "b2ec99d7-4c50-4649-87d9-910524be3fa0"
      },
      "execution_count": 21,
      "outputs": [
        {
          "output_type": "stream",
          "name": "stderr",
          "text": [
            "Epoch 1/20: 100%|██████████| 9/9 [00:00<00:00, 108.60batch/s, Loss=1.8914]\n"
          ]
        },
        {
          "output_type": "stream",
          "name": "stdout",
          "text": [
            "Epoch 1:\n",
            "  Train Loss: 2.1243, Train Accuracy: 27.86%\n",
            "  Val Loss: 2.0851, Val Accuracy: 33.33%\n",
            "Learning Rate: 0.001000\n"
          ]
        },
        {
          "output_type": "stream",
          "name": "stderr",
          "text": [
            "Epoch 2/20: 100%|██████████| 9/9 [00:00<00:00, 107.13batch/s, Loss=1.6147]\n"
          ]
        },
        {
          "output_type": "stream",
          "name": "stdout",
          "text": [
            "Epoch 2:\n",
            "  Train Loss: 1.7440, Train Accuracy: 54.20%\n",
            "  Val Loss: 1.9359, Val Accuracy: 40.91%\n",
            "Learning Rate: 0.001000\n"
          ]
        },
        {
          "output_type": "stream",
          "name": "stderr",
          "text": [
            "Epoch 3/20: 100%|██████████| 9/9 [00:00<00:00, 101.36batch/s, Loss=1.2744]\n"
          ]
        },
        {
          "output_type": "stream",
          "name": "stdout",
          "text": [
            "Epoch 3:\n",
            "  Train Loss: 1.4799, Train Accuracy: 61.07%\n",
            "  Val Loss: 1.8298, Val Accuracy: 48.48%\n",
            "Learning Rate: 0.001000\n"
          ]
        },
        {
          "output_type": "stream",
          "name": "stderr",
          "text": [
            "Epoch 4/20: 100%|██████████| 9/9 [00:00<00:00, 84.65batch/s, Loss=1.2182]\n"
          ]
        },
        {
          "output_type": "stream",
          "name": "stdout",
          "text": [
            "Epoch 4:\n",
            "  Train Loss: 1.2949, Train Accuracy: 63.74%\n",
            "  Val Loss: 1.7436, Val Accuracy: 48.48%\n",
            "Learning Rate: 0.001000\n"
          ]
        },
        {
          "output_type": "stream",
          "name": "stderr",
          "text": [
            "Epoch 5/20: 100%|██████████| 9/9 [00:00<00:00, 97.11batch/s, Loss=0.9818]\n"
          ]
        },
        {
          "output_type": "stream",
          "name": "stdout",
          "text": [
            "Epoch 5:\n",
            "  Train Loss: 1.1263, Train Accuracy: 69.85%\n",
            "  Val Loss: 1.6406, Val Accuracy: 50.00%\n",
            "Learning Rate: 0.000500\n"
          ]
        },
        {
          "output_type": "stream",
          "name": "stderr",
          "text": [
            "Epoch 6/20: 100%|██████████| 9/9 [00:00<00:00, 96.55batch/s, Loss=0.6654]\n"
          ]
        },
        {
          "output_type": "stream",
          "name": "stdout",
          "text": [
            "Epoch 6:\n",
            "  Train Loss: 0.9835, Train Accuracy: 73.28%\n",
            "  Val Loss: 1.5975, Val Accuracy: 53.03%\n",
            "Learning Rate: 0.000500\n"
          ]
        },
        {
          "output_type": "stream",
          "name": "stderr",
          "text": [
            "Epoch 7/20: 100%|██████████| 9/9 [00:00<00:00, 118.48batch/s, Loss=0.9832]\n"
          ]
        },
        {
          "output_type": "stream",
          "name": "stdout",
          "text": [
            "Epoch 7:\n",
            "  Train Loss: 0.9519, Train Accuracy: 75.95%\n",
            "  Val Loss: 1.5442, Val Accuracy: 53.03%\n",
            "Learning Rate: 0.000500\n"
          ]
        },
        {
          "output_type": "stream",
          "name": "stderr",
          "text": [
            "Epoch 8/20: 100%|██████████| 9/9 [00:00<00:00, 103.64batch/s, Loss=0.9640]\n"
          ]
        },
        {
          "output_type": "stream",
          "name": "stdout",
          "text": [
            "Epoch 8:\n",
            "  Train Loss: 0.8931, Train Accuracy: 78.24%\n",
            "  Val Loss: 1.4875, Val Accuracy: 54.55%\n",
            "Learning Rate: 0.000500\n"
          ]
        },
        {
          "output_type": "stream",
          "name": "stderr",
          "text": [
            "Epoch 9/20: 100%|██████████| 9/9 [00:00<00:00, 93.99batch/s, Loss=1.0291]\n"
          ]
        },
        {
          "output_type": "stream",
          "name": "stdout",
          "text": [
            "Epoch 9:\n",
            "  Train Loss: 0.8445, Train Accuracy: 80.15%\n",
            "  Val Loss: 1.4493, Val Accuracy: 57.58%\n",
            "Learning Rate: 0.000500\n"
          ]
        },
        {
          "output_type": "stream",
          "name": "stderr",
          "text": [
            "Epoch 10/20: 100%|██████████| 9/9 [00:00<00:00, 100.52batch/s, Loss=0.9783]\n"
          ]
        },
        {
          "output_type": "stream",
          "name": "stdout",
          "text": [
            "Epoch 10:\n",
            "  Train Loss: 0.7888, Train Accuracy: 82.44%\n",
            "  Val Loss: 1.4031, Val Accuracy: 59.09%\n",
            "Learning Rate: 0.000250\n"
          ]
        },
        {
          "output_type": "stream",
          "name": "stderr",
          "text": [
            "Epoch 11/20: 100%|██████████| 9/9 [00:00<00:00, 99.33batch/s, Loss=0.8116]\n"
          ]
        },
        {
          "output_type": "stream",
          "name": "stdout",
          "text": [
            "Epoch 11:\n",
            "  Train Loss: 0.7330, Train Accuracy: 83.59%\n",
            "  Val Loss: 1.3697, Val Accuracy: 59.09%\n",
            "Learning Rate: 0.000250\n"
          ]
        },
        {
          "output_type": "stream",
          "name": "stderr",
          "text": [
            "Epoch 12/20: 100%|██████████| 9/9 [00:00<00:00, 85.80batch/s, Loss=0.6879]\n"
          ]
        },
        {
          "output_type": "stream",
          "name": "stdout",
          "text": [
            "Epoch 12:\n",
            "  Train Loss: 0.6980, Train Accuracy: 86.26%\n",
            "  Val Loss: 1.3392, Val Accuracy: 59.09%\n",
            "Learning Rate: 0.000250\n"
          ]
        },
        {
          "output_type": "stream",
          "name": "stderr",
          "text": [
            "Epoch 13/20: 100%|██████████| 9/9 [00:00<00:00, 87.41batch/s, Loss=0.6938]\n"
          ]
        },
        {
          "output_type": "stream",
          "name": "stdout",
          "text": [
            "Epoch 13:\n",
            "  Train Loss: 0.6752, Train Accuracy: 87.02%\n",
            "  Val Loss: 1.3283, Val Accuracy: 63.64%\n",
            "Learning Rate: 0.000250\n"
          ]
        },
        {
          "output_type": "stream",
          "name": "stderr",
          "text": [
            "Epoch 14/20: 100%|██████████| 9/9 [00:00<00:00, 85.75batch/s, Loss=0.8315]\n"
          ]
        },
        {
          "output_type": "stream",
          "name": "stdout",
          "text": [
            "Epoch 14:\n",
            "  Train Loss: 0.6658, Train Accuracy: 87.79%\n",
            "  Val Loss: 1.3157, Val Accuracy: 65.15%\n",
            "Learning Rate: 0.000250\n"
          ]
        },
        {
          "output_type": "stream",
          "name": "stderr",
          "text": [
            "Epoch 15/20: 100%|██████████| 9/9 [00:00<00:00, 88.80batch/s, Loss=1.0249]\n"
          ]
        },
        {
          "output_type": "stream",
          "name": "stdout",
          "text": [
            "Epoch 15:\n",
            "  Train Loss: 0.6621, Train Accuracy: 88.93%\n",
            "  Val Loss: 1.2824, Val Accuracy: 65.15%\n",
            "Learning Rate: 0.000125\n"
          ]
        },
        {
          "output_type": "stream",
          "name": "stderr",
          "text": [
            "Epoch 16/20: 100%|██████████| 9/9 [00:00<00:00, 85.04batch/s, Loss=0.7769]\n"
          ]
        },
        {
          "output_type": "stream",
          "name": "stdout",
          "text": [
            "Epoch 16:\n",
            "  Train Loss: 0.6220, Train Accuracy: 89.31%\n",
            "  Val Loss: 1.2684, Val Accuracy: 65.15%\n",
            "Learning Rate: 0.000125\n"
          ]
        },
        {
          "output_type": "stream",
          "name": "stderr",
          "text": [
            "Epoch 17/20: 100%|██████████| 9/9 [00:00<00:00, 85.33batch/s, Loss=0.3877]\n"
          ]
        },
        {
          "output_type": "stream",
          "name": "stdout",
          "text": [
            "Epoch 17:\n",
            "  Train Loss: 0.5762, Train Accuracy: 89.31%\n",
            "  Val Loss: 1.2580, Val Accuracy: 65.15%\n",
            "Learning Rate: 0.000125\n"
          ]
        },
        {
          "output_type": "stream",
          "name": "stderr",
          "text": [
            "Epoch 18/20: 100%|██████████| 9/9 [00:00<00:00, 95.74batch/s, Loss=0.7018]\n"
          ]
        },
        {
          "output_type": "stream",
          "name": "stdout",
          "text": [
            "Epoch 18:\n",
            "  Train Loss: 0.5949, Train Accuracy: 89.31%\n",
            "  Val Loss: 1.2587, Val Accuracy: 66.67%\n",
            "No improvement in validation loss for 1 epoch(s).\n",
            "Learning Rate: 0.000125\n"
          ]
        },
        {
          "output_type": "stream",
          "name": "stderr",
          "text": [
            "Epoch 19/20: 100%|██████████| 9/9 [00:00<00:00, 97.30batch/s, Loss=0.4663]\n"
          ]
        },
        {
          "output_type": "stream",
          "name": "stdout",
          "text": [
            "Epoch 19:\n",
            "  Train Loss: 0.5633, Train Accuracy: 89.31%\n",
            "  Val Loss: 1.2478, Val Accuracy: 65.15%\n",
            "Learning Rate: 0.000125\n"
          ]
        },
        {
          "output_type": "stream",
          "name": "stderr",
          "text": [
            "Epoch 20/20: 100%|██████████| 9/9 [00:00<00:00, 95.88batch/s, Loss=0.4371]\n"
          ]
        },
        {
          "output_type": "stream",
          "name": "stdout",
          "text": [
            "Epoch 20:\n",
            "  Train Loss: 0.5512, Train Accuracy: 89.69%\n",
            "  Val Loss: 1.2412, Val Accuracy: 66.67%\n",
            "Learning Rate: 0.000063\n"
          ]
        }
      ]
    },
    {
      "cell_type": "code",
      "source": [
        "plt.figure(figsize=(8, 6))\n",
        "epochs = range(1, len(train_losses) + 1)\n",
        "plt.plot(epochs, train_losses, label=\"Training Loss\", marker='o')\n",
        "plt.plot(epochs, val_losses, label=\"Validation Loss\", marker='o')\n",
        "plt.xlabel(\"Epochs\")\n",
        "plt.ylabel(\"Loss\")\n",
        "plt.title(\"Training vs Validation Loss\")\n",
        "plt.legend()\n",
        "plt.show()\n"
      ],
      "metadata": {
        "colab": {
          "base_uri": "https://localhost:8080/",
          "height": 564
        },
        "id": "VjbX6RIVSt_9",
        "outputId": "3da11071-840e-4cdf-d1a2-57e6995da219"
      },
      "execution_count": 22,
      "outputs": [
        {
          "output_type": "display_data",
          "data": {
            "text/plain": [
              "<Figure size 800x600 with 1 Axes>"
            ],
            "image/png": "[encoded data removed]"
          },
          "metadata": {}
        }
      ]
    },
    {
      "cell_type": "code",
      "source": [
        "def predict_intent(text, model, vocab, intent_labels):\n",
        "    model.eval()\n",
        "\n",
        "    tokenized = text_to_sequence(text, vocab)\n",
        "    input_tensor = torch.tensor(tokenized).unsqueeze(0).to(device)\n",
        "    length = torch.tensor([len(tokenized)], dtype=torch.int64).cpu()\n",
        "\n",
        "    with torch.no_grad():\n",
        "        output = model(input_tensor, length)\n",
        "        predicted_label_idx = torch.argmax(output, dim=1).item()\n",
        "    predicted_label = [key for key, value in intent_labels.items() if value == predicted_label_idx][0]\n",
        "    return predicted_label\n",
        "\n",
        "print(predict_intent(\"play some music\", model, vocab, intent_labels))\n",
        "print(predict_intent(\"turn on the lights\", model, vocab, intent_labels))\n",
        "print(predict_intent(\"book a flight to New York\", model, vocab, intent_labels))\n"
      ],
      "metadata": {
        "colab": {
          "base_uri": "https://localhost:8080/"
        },
        "id": "OcLhoafXSwUU",
        "outputId": "6dafecc0-bf83-4e17-cfcf-803c33ae8268"
      },
      "execution_count": 23,
      "outputs": [
        {
          "output_type": "stream",
          "name": "stdout",
          "text": [
            "RequestRide\n",
            "RequestRide\n",
            "RequestRide\n"
          ]
        }
      ]
    },
    {
      "cell_type": "code",
      "source": [
        "# Import necessary libraries\n",
        "from sklearn.metrics import classification_report, accuracy_score, precision_score, recall_score, f1_score\n",
        "\n",
        "def generate_rnn_classification_report(model, dataloader, device, class_names):\n",
        "    \"\"\"\n",
        "    Evaluates the RNN model using accuracy, precision, recall, and F1-score.\n",
        "    \"\"\"\n",
        "    model.eval()  # Set model to evaluation mode\n",
        "    y_true, y_pred = [], []\n",
        "\n",
        "    with torch.no_grad():\n",
        "        for texts, labels in dataloader:\n",
        "            texts, labels = texts.to(device), labels.to(device)\n",
        "            lengths = (texts != vocab[\"<PAD>\"]).sum(dim=1).cpu()  # Get actual lengths\n",
        "\n",
        "            # Get model predictions\n",
        "            outputs = model(texts, lengths)\n",
        "            preds = torch.argmax(outputs, dim=1)\n",
        "\n",
        "            y_true.extend(labels.cpu().numpy())\n",
        "            y_pred.extend(preds.cpu().numpy())\n",
        "\n",
        "    # Calculate evaluation metrics\n",
        "    accuracy = accuracy_score(y_true, y_pred)\n",
        "    precision = precision_score(y_true, y_pred, average='weighted')\n",
        "    recall = recall_score(y_true, y_pred, average='weighted')\n",
        "    f1 = f1_score(y_true, y_pred, average='weighted')\n",
        "\n",
        "    # Print classification report\n",
        "    print(\"\\nClassification Report:\")\n",
        "    print(classification_report(y_true, y_pred, target_names=class_names))\n",
        "\n",
        "    # Print evaluation results\n",
        "    print(f\"Accuracy: {accuracy:.4f}\")\n",
        "    print(f\"Precision: {precision:.4f}\")\n",
        "    print(f\"Recall: {recall:.4f}\")\n",
        "    print(f\"F1-Score: {f1:.4f}\")\n",
        "\n",
        "# Define class names from the SNIPS dataset\n",
        "class_names = list(intent_labels.keys())\n",
        "\n",
        "# Call the classification report function\n",
        "generate_rnn_classification_report(model, val_loader, device, class_names)"
      ],
      "metadata": {
        "id": "zk0L_SHZnBa_",
        "outputId": "7e10d0b3-5900-4847-bb5a-c521bcf8d2f1",
        "colab": {
          "base_uri": "https://localhost:8080/"
        }
      },
      "execution_count": 24,
      "outputs": [
        {
          "output_type": "stream",
          "name": "stdout",
          "text": [
            "\n",
            "Classification Report:\n",
            "                       precision    recall  f1-score   support\n",
            "\n",
            " ShareCurrentLocation       1.00      0.50      0.67         2\n",
            "        ComparePlaces       1.00      0.33      0.50         3\n",
            "      GetPlaceDetails       0.50      0.88      0.64         8\n",
            "          SearchPlace       0.57      0.67      0.62         6\n",
            "       BookRestaurant       0.76      1.00      0.87        13\n",
            "          RequestRide       0.80      0.50      0.62         8\n",
            "        GetDirections       0.67      0.86      0.75         7\n",
            "             ShareETA       0.67      0.67      0.67         3\n",
            "GetTrafficInformation       0.50      0.12      0.20         8\n",
            "           GetWeather       0.71      0.62      0.67         8\n",
            "\n",
            "             accuracy                           0.67        66\n",
            "            macro avg       0.72      0.61      0.62        66\n",
            "         weighted avg       0.68      0.67      0.64        66\n",
            "\n",
            "Accuracy: 0.6667\n",
            "Precision: 0.6841\n",
            "Recall: 0.6667\n",
            "F1-Score: 0.6362\n"
          ]
        }
      ]
    },
    {
      "cell_type": "code",
      "source": [
        "# Import necessary libraries\n",
        "from sklearn.metrics import confusion_matrix\n",
        "\n",
        "def plot_rnn_confusion_matrix(model, dataloader, device, class_names):\n",
        "    \"\"\"\n",
        "    Plots the confusion matrix to visualize misclassifications.\n",
        "    \"\"\"\n",
        "    model.eval()  # Set model to evaluation mode\n",
        "    y_true, y_pred = [], []\n",
        "\n",
        "    with torch.no_grad():\n",
        "        for texts, labels in dataloader:\n",
        "            texts, labels = texts.to(device), labels.to(device)\n",
        "            lengths = (texts != vocab[\"<PAD>\"]).sum(dim=1).cpu()  # Get actual lengths\n",
        "\n",
        "            # Get model predictions\n",
        "            outputs = model(texts, lengths)\n",
        "            preds = torch.argmax(outputs, dim=1)\n",
        "\n",
        "            y_true.extend(labels.cpu().numpy())\n",
        "            y_pred.extend(preds.cpu().numpy())\n",
        "\n",
        "    # Generate confusion matrix\n",
        "    cm = confusion_matrix(y_true, y_pred)\n",
        "\n",
        "    # Plot the confusion matrix\n",
        "    plt.figure(figsize=(10, 8))\n",
        "    sns.heatmap(cm, annot=True, fmt=\"d\", cmap=\"Blues\", cbar=False, xticklabels=class_names, yticklabels=class_names)\n",
        "    plt.xlabel('Predicted Labels')\n",
        "    plt.ylabel('True Labels')\n",
        "    plt.title('Confusion Matrix')\n",
        "    plt.show()\n",
        "\n",
        "# Call the confusion matrix function\n",
        "plot_rnn_confusion_matrix(model, val_loader, device, class_names)"
      ],
      "metadata": {
        "id": "i2aOB5HOnDKT",
        "outputId": "78f2adf4-6850-4ac9-9700-9690ef1d05fd",
        "colab": {
          "base_uri": "https://localhost:8080/",
          "height": 855
        }
      },
      "execution_count": 25,
      "outputs": [
        {
          "output_type": "display_data",
          "data": {
            "text/plain": [
              "<Figure size 1000x800 with 1 Axes>"
            ],
            "image/png": "[encoded data removed]"
          },
          "metadata": {}
        }
      ]
    }
  ]
}