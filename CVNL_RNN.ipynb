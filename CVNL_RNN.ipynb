{
  "nbformat": 4,
  "nbformat_minor": 0,
  "metadata": {
    "colab": {
      "provenance": [],
      "gpuType": "T4",
      "authorship_tag": "ABX9TyN8m7l/HJf+Q+QUcPjdumIQ",
      "include_colab_link": true
    },
    "kernelspec": {
      "name": "python3",
      "display_name": "Python 3"
    },
    "language_info": {
      "name": "python"
    },
    "accelerator": "GPU"
  },
  "cells": [
    {
      "cell_type": "markdown",
      "metadata": {
        "id": "view-in-github",
        "colab_type": "text"
      },
      "source": [
        "<a href=\"https://colab.research.google.com/github/hendrikyong/CVNL_Assignment_1/blob/main/CVNL_RNN.ipynb\" target=\"_parent\"><img src=\"https://colab.research.google.com/assets/colab-badge.svg\" alt=\"Open In Colab\"/></a>"
      ]
    },
    {
      "cell_type": "code",
      "execution_count": 20,
      "metadata": {
        "colab": {
          "base_uri": "https://localhost:8080/"
        },
        "id": "b0-3ZX9xM0HH",
        "outputId": "9efda1ea-ebe0-4c72-df56-2038a8b61ff8"
      },
      "outputs": [
        {
          "output_type": "stream",
          "name": "stderr",
          "text": [
            "[nltk_data] Downloading package punkt to /root/nltk_data...\n",
            "[nltk_data]   Package punkt is already up-to-date!\n",
            "[nltk_data] Downloading package punkt_tab to /root/nltk_data...\n",
            "[nltk_data]   Package punkt_tab is already up-to-date!\n"
          ]
        },
        {
          "output_type": "execute_result",
          "data": {
            "text/plain": [
              "True"
            ]
          },
          "metadata": {},
          "execution_count": 20
        }
      ],
      "source": [
        "import torch\n",
        "import torch.nn as nn\n",
        "import torch.optim as optim\n",
        "import torch.nn.functional as F\n",
        "from torch.utils.data import Dataset, DataLoader\n",
        "import nltk\n",
        "from nltk.tokenize import word_tokenize\n",
        "import requests\n",
        "import json\n",
        "from collections import Counter\n",
        "import pandas as pd\n",
        "import matplotlib.pyplot as plt\n",
        "import seaborn as sns\n",
        "from tqdm import tqdm\n",
        "\n",
        "nltk.download(\"punkt\")\n",
        "nltk.download('punkt_tab')"
      ]
    },
    {
      "cell_type": "code",
      "source": [
        "# get json dataset from github\n",
        "url = \"https://raw.githubusercontent.com/snipsco/nlu-benchmark/master/2016-12-built-in-intents/benchmark_data.json\"\n",
        "response = requests.get(url)\n",
        "\n",
        "if response.status_code == 200:\n",
        "    data = response.json()\n",
        "    print(\"Successfully fetched SNIPS dataset\")\n",
        "\n",
        "    # Extract intents and associated text queries\n",
        "    snips_data = {}\n",
        "    for domain in data[\"domains\"]:\n",
        "        for intent in domain[\"intents\"]:\n",
        "            intent_name = intent[\"benchmark\"][\"Snips\"][\"original_intent_name\"]\n",
        "            queries = [query[\"text\"] for query in intent[\"queries\"]]\n",
        "            snips_data[intent_name] = queries\n",
        "\n",
        "    print(f\"Total intents: {len(snips_data)}\")\n",
        "    print(\"Example intent:\", list(snips_data.keys())[0])\n",
        "    print(\"Example queries:\", snips_data[list(snips_data.keys())[0]][:5])\n",
        "else:\n",
        "    print(\"Failed to fetch SNIPS dataset\")\n"
      ],
      "metadata": {
        "colab": {
          "base_uri": "https://localhost:8080/"
        },
        "id": "rOwtzHUvP1Ji",
        "outputId": "9dbbde53-3a36-4c9c-8c81-b13c901f8a55"
      },
      "execution_count": 7,
      "outputs": [
        {
          "output_type": "stream",
          "name": "stdout",
          "text": [
            "Successfully fetched SNIPS dataset\n",
            "Total intents: 10\n",
            "Example intent: ShareCurrentLocation\n",
            "Example queries: [\"Share my location with Hillary's sister\", 'Send my current location to my father', 'Share my current location with Jim', 'Send my location to my husband', 'Send my location']\n"
          ]
        }
      ]
    },
    {
      "cell_type": "code",
      "source": [
        "all_words = [word for queries in snips_data.values() for query in queries for word in word_tokenize(query.lower())]\n",
        "\n",
        "# build vocabulary\n",
        "vocab = {word: idx + 2 for idx, word in enumerate(Counter(all_words))}\n",
        "vocab[\"<PAD>\"] = 0\n",
        "vocab[\"<UNK>\"] = 1\n",
        "\n",
        "# map intent\n",
        "intent_labels = {intent: idx for idx, intent in enumerate(snips_data.keys())}\n",
        "\n",
        "def text_to_sequence(text, vocab, max_len=10):\n",
        "    tokens = [vocab.get(word, vocab[\"<UNK>\"]) for word in word_tokenize(text.lower())]\n",
        "    return tokens[:max_len] + [vocab[\"<PAD>\"]] * (max_len - len(tokens))\n",
        "\n",
        "sample_text = \"play some jazz music\"\n",
        "print(text_to_sequence(sample_text, vocab))\n"
      ],
      "metadata": {
        "colab": {
          "base_uri": "https://localhost:8080/"
        },
        "id": "E_guh4ZVP5q1",
        "outputId": "5b8c695b-eb5e-46da-ad6f-ba11a9105b8d"
      },
      "execution_count": 10,
      "outputs": [
        {
          "output_type": "stream",
          "name": "stdout",
          "text": [
            "[1, 257, 212, 1, 0, 0, 0, 0, 0, 0]\n"
          ]
        }
      ]
    },
    {
      "cell_type": "code",
      "source": [
        "class SNIPSDataset(Dataset):\n",
        "    def __init__(self, data, vocab, intent_labels, max_len=10):\n",
        "        self.data = data\n",
        "        self.vocab = vocab\n",
        "        self.intent_labels = intent_labels\n",
        "        self.max_len = max_len\n",
        "        self.samples = [(query, intent) for intent, queries in data.items() for query in queries]\n",
        "\n",
        "    def __len__(self):\n",
        "        return len(self.samples)\n",
        "\n",
        "    def __getitem__(self, idx):\n",
        "        text, intent = self.samples[idx]\n",
        "        tokenized_text = text_to_sequence(text, self.vocab, self.max_len)\n",
        "        label = self.intent_labels[intent]\n",
        "        return torch.tensor(tokenized_text), torch.tensor(label)\n",
        "\n",
        "train_dataset = SNIPSDataset(snips_data, vocab, intent_labels)\n",
        "train_loader = DataLoader(train_dataset, batch_size=32, shuffle=True)\n",
        "\n",
        "sample_batch = next(iter(train_loader))\n",
        "print(\"Sample batch text tensor shape:\", sample_batch[0].shape)\n",
        "print(\"Sample batch labels tensor shape:\", sample_batch[1].shape)\n"
      ],
      "metadata": {
        "colab": {
          "base_uri": "https://localhost:8080/"
        },
        "id": "FQHaiC5FRYSi",
        "outputId": "d24968c8-23e6-4abb-8f8a-5ea0f1b514ae"
      },
      "execution_count": 11,
      "outputs": [
        {
          "output_type": "stream",
          "name": "stdout",
          "text": [
            "Sample batch text tensor shape: torch.Size([32, 10])\n",
            "Sample batch labels tensor shape: torch.Size([32])\n"
          ]
        }
      ]
    },
    {
      "cell_type": "code",
      "source": [
        "class IntentRNN(nn.Module):\n",
        "    def __init__(self, vocab_size, embed_dim, hidden_dim, output_dim):\n",
        "        super(IntentRNN, self).__init__()\n",
        "        self.embedding = nn.Embedding(vocab_size, embed_dim, padding_idx=0)\n",
        "        self.rnn = nn.RNN(embed_dim, hidden_dim, batch_first=True)\n",
        "        self.fc = nn.Linear(hidden_dim, output_dim)\n",
        "\n",
        "    def forward(self, x):\n",
        "        x = self.embedding(x)  # (batch, seq_len, embed_dim)\n",
        "        _, hidden = self.rnn(x)  # hidden: (1, batch, hidden_dim)\n",
        "        return self.fc(hidden.squeeze(0))  # Output (batch, output_dim)\n",
        "\n",
        "# hyperparameters\n",
        "vocab_size = len(vocab)\n",
        "embed_dim = 64\n",
        "hidden_dim = 128\n",
        "output_dim = len(intent_labels)\n",
        "\n",
        "model = IntentRNN(vocab_size, embed_dim, hidden_dim, output_dim)\n",
        "print(model)\n"
      ],
      "metadata": {
        "colab": {
          "base_uri": "https://localhost:8080/"
        },
        "id": "qTczd4mcSJvq",
        "outputId": "93b4d7c5-7df6-4b19-fed5-30f6b3378fbf"
      },
      "execution_count": 12,
      "outputs": [
        {
          "output_type": "stream",
          "name": "stdout",
          "text": [
            "IntentRNN(\n",
            "  (embedding): Embedding(649, 64, padding_idx=0)\n",
            "  (rnn): RNN(64, 128, batch_first=True)\n",
            "  (fc): Linear(in_features=128, out_features=10, bias=True)\n",
            ")\n"
          ]
        }
      ]
    },
    {
      "cell_type": "code",
      "source": [
        "device = torch.device(\"cuda\" if torch.cuda.is_available() else \"cpu\")\n",
        "model.to(device)\n",
        "print(f\"Using device: {device}\")\n",
        "\n",
        "# use adam optimizer\n",
        "optimizer = torch.optim.Adam(model.parameters(), lr=0.001)\n",
        "\n",
        "# loss function\n",
        "criterion = nn.CrossEntropyLoss()\n",
        "\n",
        "num_epochs = 10\n",
        "\n",
        "for epoch in range(num_epochs):\n",
        "    model.train()\n",
        "    total_loss = 0\n",
        "    correct = 0\n",
        "    total = 0\n",
        "\n",
        "    # tqdm progress bar for batches\n",
        "    with tqdm(train_loader, desc=f\"Epoch {epoch+1}/{num_epochs}\", unit=\"batch\") as pbar:\n",
        "        for texts, labels in pbar:\n",
        "            texts, labels = texts.to(device), labels.to(device)\n",
        "\n",
        "            optimizer.zero_grad()  # Reset gradients\n",
        "            outputs = model(texts)  # Forward pass\n",
        "            loss = criterion(outputs, labels)  # Compute loss\n",
        "            loss.backward()  # Backpropagation\n",
        "            optimizer.step()  # Update model parameters\n",
        "            total_loss += loss.item()\n",
        "\n",
        "            predictions = torch.argmax(outputs, dim=1)\n",
        "            correct += (predictions == labels).sum().item()\n",
        "            total += labels.size(0)\n",
        "            pbar.set_postfix(Loss=f\"{loss.item():.4f}\", Acc=f\"{(correct/total)*100:.2f}%\")\n",
        "\n",
        "    avg_loss = total_loss / len(train_loader)\n",
        "    train_accuracy = correct / total\n",
        "    print(f\"Epoch {epoch+1}: Loss: {avg_loss:.4f}, Accuracy: {train_accuracy*100:.2f}%\\n\")\n",
        ""
      ],
      "metadata": {
        "colab": {
          "base_uri": "https://localhost:8080/"
        },
        "id": "rlroJbMASoG9",
        "outputId": "0d92f371-5862-4289-8380-6fd2beaa258a"
      },
      "execution_count": 25,
      "outputs": [
        {
          "output_type": "stream",
          "name": "stdout",
          "text": [
            "Using device: cuda\n"
          ]
        },
        {
          "output_type": "stream",
          "name": "stderr",
          "text": [
            "Epoch 1/10: 100%|██████████| 11/11 [00:00<00:00, 143.47batch/s, Acc=100.00%, Loss=0.0053]\n"
          ]
        },
        {
          "output_type": "stream",
          "name": "stdout",
          "text": [
            "Epoch 1: Loss: 0.0037, Accuracy: 100.00%\n",
            "\n"
          ]
        },
        {
          "output_type": "stream",
          "name": "stderr",
          "text": [
            "Epoch 2/10: 100%|██████████| 11/11 [00:00<00:00, 128.72batch/s, Acc=100.00%, Loss=0.0007]\n"
          ]
        },
        {
          "output_type": "stream",
          "name": "stdout",
          "text": [
            "Epoch 2: Loss: 0.0020, Accuracy: 100.00%\n",
            "\n"
          ]
        },
        {
          "output_type": "stream",
          "name": "stderr",
          "text": [
            "Epoch 3/10: 100%|██████████| 11/11 [00:00<00:00, 122.57batch/s, Acc=100.00%, Loss=0.0020]\n"
          ]
        },
        {
          "output_type": "stream",
          "name": "stdout",
          "text": [
            "Epoch 3: Loss: 0.0015, Accuracy: 100.00%\n",
            "\n"
          ]
        },
        {
          "output_type": "stream",
          "name": "stderr",
          "text": [
            "Epoch 4/10: 100%|██████████| 11/11 [00:00<00:00, 112.89batch/s, Acc=100.00%, Loss=0.0005]\n"
          ]
        },
        {
          "output_type": "stream",
          "name": "stdout",
          "text": [
            "Epoch 4: Loss: 0.0019, Accuracy: 100.00%\n",
            "\n"
          ]
        },
        {
          "output_type": "stream",
          "name": "stderr",
          "text": [
            "Epoch 5/10: 100%|██████████| 11/11 [00:00<00:00, 128.57batch/s, Acc=100.00%, Loss=0.0008]\n"
          ]
        },
        {
          "output_type": "stream",
          "name": "stdout",
          "text": [
            "Epoch 5: Loss: 0.0029, Accuracy: 100.00%\n",
            "\n"
          ]
        },
        {
          "output_type": "stream",
          "name": "stderr",
          "text": [
            "Epoch 6/10: 100%|██████████| 11/11 [00:00<00:00, 115.53batch/s, Acc=100.00%, Loss=0.0006]\n"
          ]
        },
        {
          "output_type": "stream",
          "name": "stdout",
          "text": [
            "Epoch 6: Loss: 0.0062, Accuracy: 100.00%\n",
            "\n"
          ]
        },
        {
          "output_type": "stream",
          "name": "stderr",
          "text": [
            "Epoch 7/10: 100%|██████████| 11/11 [00:00<00:00, 114.20batch/s, Acc=99.70%, Loss=0.0010]\n"
          ]
        },
        {
          "output_type": "stream",
          "name": "stdout",
          "text": [
            "Epoch 7: Loss: 0.0054, Accuracy: 99.70%\n",
            "\n"
          ]
        },
        {
          "output_type": "stream",
          "name": "stderr",
          "text": [
            "Epoch 8/10: 100%|██████████| 11/11 [00:00<00:00, 111.28batch/s, Acc=99.70%, Loss=0.0003]\n"
          ]
        },
        {
          "output_type": "stream",
          "name": "stdout",
          "text": [
            "Epoch 8: Loss: 0.0047, Accuracy: 99.70%\n",
            "\n"
          ]
        },
        {
          "output_type": "stream",
          "name": "stderr",
          "text": [
            "Epoch 9/10: 100%|██████████| 11/11 [00:00<00:00, 114.36batch/s, Acc=100.00%, Loss=0.0014]\n"
          ]
        },
        {
          "output_type": "stream",
          "name": "stdout",
          "text": [
            "Epoch 9: Loss: 0.0078, Accuracy: 100.00%\n",
            "\n"
          ]
        },
        {
          "output_type": "stream",
          "name": "stderr",
          "text": [
            "Epoch 10/10: 100%|██████████| 11/11 [00:00<00:00, 113.21batch/s, Acc=99.70%, Loss=0.0029]"
          ]
        },
        {
          "output_type": "stream",
          "name": "stdout",
          "text": [
            "Epoch 10: Loss: 0.0204, Accuracy: 99.70%\n",
            "\n"
          ]
        },
        {
          "output_type": "stream",
          "name": "stderr",
          "text": [
            "\n"
          ]
        }
      ]
    },
    {
      "cell_type": "code",
      "source": [
        "from sklearn.metrics import accuracy_score\n",
        "\n",
        "model.eval()\n",
        "y_true, y_pred = [], []\n",
        "\n",
        "with torch.no_grad():\n",
        "    for texts, labels in train_loader:\n",
        "        texts, labels = texts.to(device), labels.to(device)\n",
        "        outputs = model(texts)\n",
        "        predictions = torch.argmax(outputs, dim=1)\n",
        "\n",
        "        y_true.extend(labels.cpu().numpy())\n",
        "        y_pred.extend(predictions.cpu().numpy())\n",
        "\n",
        "accuracy = accuracy_score(y_true, y_pred)\n",
        "print(f\"Training Accuracy: {accuracy:.4f}\")\n"
      ],
      "metadata": {
        "colab": {
          "base_uri": "https://localhost:8080/"
        },
        "id": "VjbX6RIVSt_9",
        "outputId": "34889861-1c78-4ba3-f193-055212c18fbf"
      },
      "execution_count": 26,
      "outputs": [
        {
          "output_type": "stream",
          "name": "stdout",
          "text": [
            "Training Accuracy: 0.9970\n"
          ]
        }
      ]
    },
    {
      "cell_type": "code",
      "source": [
        "def predict_intent(text, model, vocab, intent_labels):\n",
        "    model.eval()\n",
        "    tokenized = text_to_sequence(text, vocab)\n",
        "    input_tensor = torch.tensor(tokenized).unsqueeze(0).to(device)\n",
        "\n",
        "    with torch.no_grad():\n",
        "        output = model(input_tensor)\n",
        "        predicted_label = torch.argmax(output, dim=1).item()\n",
        "\n",
        "    return [key for key, value in intent_labels.items() if value == predicted_label][0]\n",
        "\n",
        "print(predict_intent(\"play some jazz music\", model, vocab, intent_labels))\n",
        "print(predict_intent(\"turn on the lights\", model, vocab, intent_labels))\n",
        "print(predict_intent(\"book a flight to New York\", model, vocab, intent_labels))\n"
      ],
      "metadata": {
        "colab": {
          "base_uri": "https://localhost:8080/"
        },
        "id": "OcLhoafXSwUU",
        "outputId": "3773d957-f08e-4a2d-ea51-40322e849e0a"
      },
      "execution_count": 28,
      "outputs": [
        {
          "output_type": "stream",
          "name": "stdout",
          "text": [
            "GetWeather\n",
            "RequestRide\n",
            "RequestRide\n"
          ]
        }
      ]
    }
  ]
}